{
 "cells": [
  {
   "cell_type": "markdown",
   "metadata": {
    "id": "7rZc-tqFTsiS"
   },
   "source": [
    "# A FAIRE (LOUIS) : APPLIQUER TOUS LES TRAITEMENTS EGALEMENT SUR LE JEU DE DONNEES TEST"
   ]
  },
  {
   "cell_type": "markdown",
   "metadata": {
    "id": "F5vZwHgECx3l"
   },
   "source": [
    "# Chargement des bibliothèques"
   ]
  },
  {
   "cell_type": "code",
   "execution_count": 1,
   "metadata": {
    "colab": {
     "base_uri": "https://localhost:8080/"
    },
    "id": "YfWOC8yi7Rtp",
    "outputId": "f4e97b4d-1713-44c0-aaed-0144774bae5a"
   },
   "outputs": [
    {
     "name": "stdout",
     "output_type": "stream",
     "text": [
      "^C\n"
     ]
    }
   ],
   "source": [
    "# Classique\n",
    "import pandas as pd\n",
    "import numpy as np\n",
    "import matplotlib.pyplot as plt\n",
    "import math\n",
    "import datetime\n",
    "import os\n",
    "\n",
    "# Import Yoann\n",
    "import sys\n",
    "import re\n",
    "import string\n",
    "!{sys.executable} -m pip install spacy\n",
    "#import pandas as pd \n",
    "import re\n",
    "import spacy\n",
    "# !{sys.executable} -m spacy download en_core_web_sm\n",
    "nlp = spacy.load(\"en_core_web_sm\")\n",
    "\n",
    "# géométrie/algèbre\n",
    "import sympy\n",
    "from sympy import symbols, Eq, solve\n",
    "\n",
    "# NLP\n",
    "#import spacy\n",
    "#import re\n",
    "#import string\n",
    "\n",
    "# ML\n",
    "from sklearn.model_selection import train_test_split\n",
    "from sklearn.feature_extraction.text import TfidfVectorizer\n",
    "from sklearn.feature_extraction.text import TfidfTransformer\n",
    "from sklearn.preprocessing import StandardScaler\n",
    "from sklearn.model_selection import train_test_split\n",
    "from sklearn.pipeline import Pipeline\n",
    "\n",
    "# Editeur\n",
    "import warnings\n",
    "warnings.filterwarnings('ignore')"
   ]
  },
  {
   "cell_type": "markdown",
   "metadata": {
    "id": "rlqxLhJtC4zc"
   },
   "source": [
    "# Chargement des données"
   ]
  },
  {
   "cell_type": "code",
   "execution_count": 2,
   "metadata": {
    "colab": {
     "base_uri": "https://localhost:8080/"
    },
    "id": "yDCXLBMXDSQo",
    "outputId": "1a3d75fb-d7b5-437b-a062-754c0d82d95c"
   },
   "outputs": [
    {
     "name": "stdout",
     "output_type": "stream",
     "text": [
      "     id              keyword                location  \\\n",
      "0  1117            blew%20up       H / pez & sophia    \n",
      "1  9600              thunder               Macon, GA   \n",
      "2  7288   nuclear%20disaster                      US   \n",
      "3  1943  burning%20buildings  New Orleans ,Louisiana   \n",
      "4  2758               curfew     antioch, california   \n",
      "\n",
      "                                                text  target  \n",
      "0                    FREYAS VIDEO BLEW UP EVERYWHERE       0  \n",
      "1  #thunder outside my house this afternoon #gawx...       1  \n",
      "2  3 Former Executives to Be Prosecuted in Fukush...       1  \n",
      "3  Burning buildings? Media outrage? http://t.co/...       1  \n",
      "4  @michelleellle ?? shut up freshman its past ur...       0  \n"
     ]
    }
   ],
   "source": [
    "url1 = 'https://raw.githubusercontent.com/Francois-lenne/Big-data-SIAD/main/train.csv' # le dataset est stocké dans un repo github afin d'avoir un lien dur sur la base\n",
    "train = pd.read_csv(url1, sep=',') # lecture du dataframe \n",
    "train = train.sample(1000).reset_index(drop=True)\n",
    "print(train.head())"
   ]
  },
  {
   "cell_type": "code",
   "execution_count": 3,
   "metadata": {
    "colab": {
     "base_uri": "https://localhost:8080/"
    },
    "id": "aZRKJWp58gkn",
    "outputId": "8b35f644-8a55-47a3-8dd7-0748cf99ad05"
   },
   "outputs": [
    {
     "name": "stdout",
     "output_type": "stream",
     "text": [
      "      id     keyword              location  \\\n",
      "0     87      ablaze  scarborough, ontario   \n",
      "1   3384  demolition                   NaN   \n",
      "2  10108    upheaval                   NaN   \n",
      "3    414  apocalypse          Akron, Ohio    \n",
      "4   8107     rescued            London, UK   \n",
      "\n",
      "                                                text  \n",
      "0  @CTVToronto the bins in front of the field by ...  \n",
      "1  @Johnny_Detroit Tag Team for me was Demolition...  \n",
      "2  @SushmaSwaraj Am sure background check of the ...  \n",
      "3  @ItsKingRiffYall I'm excited for apocalypse re...  \n",
      "4  So @edsheeran just rescued this year's #Fusion...  \n"
     ]
    }
   ],
   "source": [
    "url2 = 'https://raw.githubusercontent.com/Francois-lenne/Big-data-SIAD/main/test.csv' # le dataset est stocké dans un repo github afin d'avoir un lien dur sur la base\n",
    "test = pd.read_csv(url2, sep=',') # lecture du dataframe \n",
    "test = test.sample(200).reset_index(drop=True)\n",
    "print(test.head())"
   ]
  },
  {
   "cell_type": "markdown",
   "metadata": {
    "id": "J_dBH1AiC9J8"
   },
   "source": [
    "# Analyse exploratoire"
   ]
  },
  {
   "cell_type": "code",
   "execution_count": 4,
   "metadata": {
    "colab": {
     "base_uri": "https://localhost:8080/",
     "height": 281
    },
    "id": "IJa7koDyJeUF",
    "outputId": "9222fd88-ded4-4d20-c2cf-e01d336fe311"
   },
   "outputs": [
    {
     "data": {
      "image/png": "[encoded data removed]",
      "text/plain": [
       "<Figure size 640x480 with 1 Axes>"
      ]
     },
     "metadata": {},
     "output_type": "display_data"
    }
   ],
   "source": [
    "train['text_length'] = [len(text) for text in train['text']]\n",
    "plt.violinplot(train['text_length'], vert = False)\n",
    "plt.title('Courbe de densité du nombre de caractères par tweet')\n",
    "plt.show()"
   ]
  },
  {
   "cell_type": "code",
   "execution_count": 5,
   "metadata": {
    "colab": {
     "base_uri": "https://localhost:8080/"
    },
    "id": "-2LSXVVu8i8n",
    "outputId": "ecc83ec4-dccd-4cbb-e3cf-63d679109d54"
   },
   "outputs": [
    {
     "data": {
      "text/plain": [
       "burning           11\n",
       "suicide%20bomb    10\n",
       "burned             9\n",
       "fire               9\n",
       "explode            9\n",
       "                  ..\n",
       "hostages           1\n",
       "demolition         1\n",
       "forest%20fires     1\n",
       "eyewitness         1\n",
       "catastrophic       1\n",
       "Name: keyword, Length: 218, dtype: int64"
      ]
     },
     "execution_count": 5,
     "metadata": {},
     "output_type": "execute_result"
    }
   ],
   "source": [
    "train['keyword'].value_counts()"
   ]
  },
  {
   "cell_type": "code",
   "execution_count": 6,
   "metadata": {
    "colab": {
     "base_uri": "https://localhost:8080/"
    },
    "id": "MoeAJGGQIQDv",
    "outputId": "99293543-94a8-41b9-99c8-13b82b1a996a"
   },
   "outputs": [
    {
     "data": {
      "text/plain": [
       "USA                    18\n",
       "United States           9\n",
       "New York                9\n",
       "Nigeria                 9\n",
       "Los Angeles, CA         5\n",
       "                       ..\n",
       "??+ ... ??+             1\n",
       "Silver Spring, MD       1\n",
       "Catalonia, Spain        1\n",
       "July 11th, 2015. ?      1\n",
       "Buscame EL tu Melte     1\n",
       "Name: location, Length: 581, dtype: int64"
      ]
     },
     "execution_count": 6,
     "metadata": {},
     "output_type": "execute_result"
    }
   ],
   "source": [
    "train['location'].value_counts()"
   ]
  },
  {
   "cell_type": "markdown",
   "metadata": {
    "id": "Njn-RYce_5AR"
   },
   "source": [
    "# Extraction des parties des tweets\n"
   ]
  },
  {
   "cell_type": "code",
   "execution_count": 7,
   "metadata": {
    "id": "h1XxTx7Z9FZE"
   },
   "outputs": [],
   "source": [
    "# Correction orthographique\n",
    "\n",
    "# Conversion chiffres en texte\n",
    "\n",
    "# Date\n",
    "\n",
    "# Hashtag\n",
    "\n",
    "# Liens hypertextes\n",
    "\n",
    "# Contenu textuel\n",
    "\n",
    "# Noms profils\n",
    "\n",
    "# Enrichissement de la localisation"
   ]
  },
  {
   "cell_type": "code",
   "execution_count": 8,
   "metadata": {
    "id": "-5qqL41ClM1a"
   },
   "outputs": [],
   "source": [
    "# Récupération des hashtag\n",
    "\n",
    "def recupHashtag(text):\n",
    "    reg = r\"#(\\w+)\"\n",
    "    p = re.compile(reg)\n",
    "    check = re.search(reg,text)\n",
    "    if check is not None:\n",
    "        ge = p.findall(text)\n",
    "        ge_join = ' '.join(ge)\n",
    "        return ge_join\n",
    "\n",
    "def recupHashtagBinaire(text):\n",
    "    rep = '0'\n",
    "    reg = r\"#(\\w+)\"\n",
    "    p = re.compile(reg)\n",
    "    check = re.search(reg,text)\n",
    "    if check is not None:\n",
    "      rep = '1'\n",
    "    return rep\n"
   ]
  },
  {
   "cell_type": "code",
   "execution_count": 9,
   "metadata": {
    "id": "uuD7ia46lfvi"
   },
   "outputs": [],
   "source": [
    "def recupName(text):\n",
    "    reg = r\"@(\\w+)\"\n",
    "    p = re.compile(reg)\n",
    "    check = re.search(reg,text)\n",
    "    if check is not None:\n",
    "        ge = p.findall(text)\n",
    "        ge_join = ' '.join(ge)\n",
    "        return ge_join\n",
    "\n",
    "def recupNameBinaire(text):\n",
    "    rep = '0'\n",
    "    reg = r\"@(\\w+)\"\n",
    "    p = re.compile(reg)\n",
    "    check = re.search(reg,text)\n",
    "    if check is not None:\n",
    "      rep = '1'\n",
    "    return rep\n",
    "        \n"
   ]
  },
  {
   "cell_type": "code",
   "execution_count": 10,
   "metadata": {
    "id": "UA-F1GLXlg_5"
   },
   "outputs": [],
   "source": [
    "def recupDate(text):\n",
    "    reg = r\"([A-Za-z]{3})\\s(\\d{1,2}),\\s(\\d{4})\"\n",
    "    p = re.compile(reg)\n",
    "    check = re.search(reg,text)\n",
    "    if check is not None:\n",
    "        ge = p.findall(text)\n",
    "        return ge\n",
    "\n",
    "def recupDateBinaire(text):\n",
    "    rep = '0'\n",
    "    reg = r\"([A-Za-z]{3})\\s(\\d{1,2}),\\s(\\d{4})\"\n",
    "    p = re.compile(reg)\n",
    "    check = re.search(reg,text)\n",
    "    if check is not None:\n",
    "      rep = '1'\n",
    "    return rep\n",
    "    \n"
   ]
  },
  {
   "cell_type": "code",
   "execution_count": 11,
   "metadata": {
    "id": "xFQP80HyliZa"
   },
   "outputs": [],
   "source": [
    "def getChemin(text):\n",
    "    reg1 = r'(https?:\\/\\/[^\\s]+)'\n",
    "    reg2 = r'(https?)://([^:/]+)(?::(\\d+))?(/[^?]*)?(\\?[^#]*)?(#.*)?'\n",
    "    p = re.compile(reg1)\n",
    "    check = re.search(reg1,text)\n",
    "    if check is not None:\n",
    "        ge = p.findall(text)\n",
    "        for val in ge:\n",
    "            match = re.search(reg2,val)\n",
    "            if match:\n",
    "                rt = match.group(4)\n",
    "            return rt\n",
    "\n",
    "def getCheminBinaire(text):\n",
    "    rep = '0'\n",
    "    reg1 = r'(https?:\\/\\/[^\\s]+)'\n",
    "    p = re.compile(reg1)\n",
    "    check = re.search(reg1,text)\n",
    "    if check is not None:\n",
    "      rep = '1'\n",
    "    return rep"
   ]
  },
  {
   "cell_type": "code",
   "execution_count": 12,
   "metadata": {
    "id": "ri_mrjIFlu9B"
   },
   "outputs": [],
   "source": [
    "def getLocation(text):\n",
    "    global nlp\n",
    "    save = []\n",
    "    doc = nlp(text)\n",
    "    for ent in doc.ents:\n",
    "        if ent.label_ == \"GPE\":\n",
    "            save.append(ent.text)\n",
    "    return save"
   ]
  },
  {
   "cell_type": "code",
   "execution_count": 13,
   "metadata": {
    "id": "hoEMzQ5e3Ewv"
   },
   "outputs": [],
   "source": [
    "def getLocationBinaire(text):\n",
    "    rep = \"0\"\n",
    "    global nlp\n",
    "    doc = nlp(text)\n",
    "    for ent in doc.ents:\n",
    "        if ent.label_ == \"GPE\":\n",
    "            rep = \"1\"\n",
    "    return rep"
   ]
  },
  {
   "cell_type": "code",
   "execution_count": 14,
   "metadata": {},
   "outputs": [],
   "source": [
    "def GPE(text):\n",
    "    global nlp\n",
    "    save = []\n",
    "    doc = nlp(text)\n",
    "    for ent in doc.ents:\n",
    "            save.append(ent.label_)\n",
    "    if (\"GPE\" in save):\n",
    "        GPE_exist = 1\n",
    "    else:\n",
    "        GPE_exist = 0\n",
    "    return GPE_exist  "
   ]
  },
  {
   "cell_type": "code",
   "execution_count": 15,
   "metadata": {},
   "outputs": [],
   "source": [
    "def NORP(text):\n",
    "    global nlp\n",
    "    save = []\n",
    "    doc = nlp(text)\n",
    "    for ent in doc.ents:\n",
    "            save.append(ent.label_)\n",
    "    if (\"NORP\" in save):\n",
    "        NORP_exist = 1\n",
    "    else:\n",
    "        NORP_exist = 0\n",
    "    return NORP_exist   \n",
    "\n"
   ]
  },
  {
   "cell_type": "code",
   "execution_count": 16,
   "metadata": {},
   "outputs": [],
   "source": [
    "def ORG(text):\n",
    "    global nlp\n",
    "    save = []\n",
    "    doc = nlp(text)\n",
    "    for ent in doc.ents:\n",
    "            save.append(ent.label_)\n",
    "    if (\"ORG\" in save):\n",
    "        ORG_exist = 1\n",
    "    else:\n",
    "        ORG_exist = 0\n",
    "    return ORG_exist   \n",
    "\n"
   ]
  },
  {
   "cell_type": "code",
   "execution_count": 17,
   "metadata": {},
   "outputs": [],
   "source": [
    "def DATE(text):\n",
    "    global nlp\n",
    "    save = []\n",
    "    doc = nlp(text)\n",
    "    for ent in doc.ents:\n",
    "            save.append(ent.label_)\n",
    "    if (\"DATE\" in save):\n",
    "        DATE_exist = 1\n",
    "    else:\n",
    "        DATE_exist = 0\n",
    "    return DATE_exist   \n",
    "\n",
    "\n"
   ]
  },
  {
   "cell_type": "code",
   "execution_count": 18,
   "metadata": {},
   "outputs": [],
   "source": [
    "def PERSON(text):\n",
    "    global nlp\n",
    "    save = []\n",
    "    doc = nlp(text)\n",
    "    for ent in doc.ents:\n",
    "            save.append(ent.label_)\n",
    "    if (\"PERSON\" in save):\n",
    "        PERSON_exist = 1\n",
    "    else:\n",
    "        PERSON_exist = 0\n",
    "    return PERSON_exist   \n"
   ]
  },
  {
   "cell_type": "code",
   "execution_count": null,
   "metadata": {
    "id": "sG4oHbVOlzkp"
   },
   "outputs": [
    {
     "name": "stdout",
     "output_type": "stream",
     "text": [
      "Requirement already satisfied: spacy in c:\\users\\franc\\anaconda3\\lib\\site-packages (3.3.1)\n",
      "Requirement already satisfied: typer<0.5.0,>=0.3.0 in c:\\users\\franc\\anaconda3\\lib\\site-packages (from spacy) (0.4.2)\n",
      "Requirement already satisfied: packaging>=20.0 in c:\\users\\franc\\anaconda3\\lib\\site-packages (from spacy) (21.3)\n",
      "Requirement already satisfied: tqdm<5.0.0,>=4.38.0 in c:\\users\\franc\\anaconda3\\lib\\site-packages (from spacy) (4.64.1)\n",
      "Requirement already satisfied: requests<3.0.0,>=2.13.0 in c:\\users\\franc\\anaconda3\\lib\\site-packages (from spacy) (2.28.1)\n",
      "Requirement already satisfied: setuptools in c:\\users\\franc\\anaconda3\\lib\\site-packages (from spacy) (63.4.1)\n",
      "Requirement already satisfied: preshed<3.1.0,>=3.0.2 in c:\\users\\franc\\anaconda3\\lib\\site-packages (from spacy) (3.0.6)\n",
      "Requirement already satisfied: srsly<3.0.0,>=2.4.3 in c:\\users\\franc\\anaconda3\\lib\\site-packages (from spacy) (2.4.3)\n",
      "Requirement already satisfied: numpy>=1.15.0 in c:\\users\\franc\\anaconda3\\lib\\site-packages (from spacy) (1.21.5)\n",
      "Requirement already satisfied: wasabi<1.1.0,>=0.9.1 in c:\\users\\franc\\anaconda3\\lib\\site-packages (from spacy) (0.9.1)\n",
      "Requirement already satisfied: blis<0.8.0,>=0.4.0 in c:\\users\\franc\\anaconda3\\lib\\site-packages (from spacy) (0.7.8)\n",
      "Requirement already satisfied: thinc<8.1.0,>=8.0.14 in c:\\users\\franc\\anaconda3\\lib\\site-packages (from spacy) (8.0.15)\n",
      "Collecting pydantic!=1.8,!=1.8.1,<1.9.0,>=1.7.4\n",
      "  Using cached pydantic-1.8.2-cp39-cp39-win_amd64.whl (1.9 MB)\n",
      "Requirement already satisfied: jinja2 in c:\\users\\franc\\anaconda3\\lib\\site-packages (from spacy) (2.11.3)\n",
      "Requirement already satisfied: langcodes<4.0.0,>=3.2.0 in c:\\users\\franc\\anaconda3\\lib\\site-packages (from spacy) (3.3.0)\n",
      "Requirement already satisfied: spacy-legacy<3.1.0,>=3.0.9 in c:\\users\\franc\\anaconda3\\lib\\site-packages (from spacy) (3.0.10)\n",
      "Requirement already satisfied: cymem<2.1.0,>=2.0.2 in c:\\users\\franc\\anaconda3\\lib\\site-packages (from spacy) (2.0.6)\n",
      "Requirement already satisfied: catalogue<2.1.0,>=2.0.6 in c:\\users\\franc\\anaconda3\\lib\\site-packages (from spacy) (2.0.8)\n",
      "Requirement already satisfied: murmurhash<1.1.0,>=0.28.0 in c:\\users\\franc\\anaconda3\\lib\\site-packages (from spacy) (1.0.7)\n",
      "Requirement already satisfied: pathy>=0.3.5 in c:\\users\\franc\\anaconda3\\lib\\site-packages (from spacy) (0.6.2)\n",
      "Requirement already satisfied: spacy-loggers<2.0.0,>=1.0.0 in c:\\users\\franc\\anaconda3\\lib\\site-packages (from spacy) (1.0.3)\n",
      "Requirement already satisfied: pyparsing!=3.0.5,>=2.0.2 in c:\\users\\franc\\anaconda3\\lib\\site-packages (from packaging>=20.0->spacy) (3.0.9)\n",
      "Requirement already satisfied: smart-open<6.0.0,>=5.2.1 in c:\\users\\franc\\anaconda3\\lib\\site-packages (from pathy>=0.3.5->spacy) (5.2.1)\n",
      "Requirement already satisfied: typing-extensions>=3.7.4.3 in c:\\users\\franc\\anaconda3\\lib\\site-packages (from pydantic!=1.8,!=1.8.1,<1.9.0,>=1.7.4->spacy) (4.3.0)\n",
      "Requirement already satisfied: idna<4,>=2.5 in c:\\users\\franc\\anaconda3\\lib\\site-packages (from requests<3.0.0,>=2.13.0->spacy) (3.3)\n",
      "Requirement already satisfied: charset-normalizer<3,>=2 in c:\\users\\franc\\anaconda3\\lib\\site-packages (from requests<3.0.0,>=2.13.0->spacy) (2.0.4)\n",
      "Requirement already satisfied: certifi>=2017.4.17 in c:\\users\\franc\\anaconda3\\lib\\site-packages (from requests<3.0.0,>=2.13.0->spacy) (2022.9.14)\n",
      "Requirement already satisfied: urllib3<1.27,>=1.21.1 in c:\\users\\franc\\anaconda3\\lib\\site-packages (from requests<3.0.0,>=2.13.0->spacy) (1.26.11)\n",
      "Requirement already satisfied: colorama in c:\\users\\franc\\anaconda3\\lib\\site-packages (from tqdm<5.0.0,>=4.38.0->spacy) (0.4.5)\n",
      "Requirement already satisfied: click<9.0.0,>=7.1.1 in c:\\users\\franc\\anaconda3\\lib\\site-packages (from typer<0.5.0,>=0.3.0->spacy) (8.0.4)\n",
      "Requirement already satisfied: MarkupSafe>=0.23 in c:\\users\\franc\\anaconda3\\lib\\site-packages (from jinja2->spacy) (2.0.1)\n",
      "Installing collected packages: pydantic\n",
      "  Attempting uninstall: pydantic\n",
      "    Found existing installation: pydantic 1.9.0\n",
      "    Uninstalling pydantic-1.9.0:\n",
      "      Successfully uninstalled pydantic-1.9.0\n",
      "Successfully installed pydantic-1.8.2\n"
     ]
    }
   ],
   "source": [
    "train['hashtags'] = train['text'].apply(recupHashtag)\n",
    "train['hashtags_b'] = train['text'].apply(recupHashtagBinaire)\n",
    "\n",
    "train[\"GPE_exist\"] = train[\"text\"].apply(GPE)\n",
    "\n",
    "train[\"NORP_exist\"] = train[\"text\"].apply(NORP)\n",
    "\n",
    "train[\"ORG_exist\"] = train[\"text\"].apply(ORG)\n",
    "\n",
    "train[\"DATE_exist\"] = train[\"text\"].apply(DATE)\n",
    "\n",
    "train[\"PERSON_exist\"] = train[\"text\"].apply(PERSON)\n",
    "\n",
    "train['names'] = train['text'].apply(recupName)\n",
    "train['names_b'] = train['text'].apply(recupNameBinaire)\n",
    "\n",
    "train['dates'] = train['text'].apply(recupDate)\n",
    "train['dates_b'] = train['text'].apply(recupDateBinaire)\n",
    "\n",
    "train['locations'] = train['text'].apply(getLocation)\n",
    "train['locations_b'] = train['text'].apply(getLocationBinaire)\n",
    "\n",
    "train['rt_path'] = train['text'].apply(getChemin)\n",
    "train['rt_path_b'] = train['text'].apply(getCheminBinaire)"
   ]
  },
  {
   "cell_type": "code",
   "execution_count": null,
   "metadata": {
    "id": "uRx8DMOTLDby"
   },
   "outputs": [],
   "source": [
    "test['hashtags'] = test['text'].apply(recupHashtag)\n",
    "test['hashtags_b'] = test['text'].apply(recupHashtagBinaire)\n",
    "\n",
    "test['names'] = test['text'].apply(recupName)\n",
    "test['names_b'] = test['text'].apply(recupNameBinaire)\n",
    "\n",
    "test['dates'] = test['text'].apply(recupDate)\n",
    "test['dates_b'] = test['text'].apply(recupDateBinaire)\n",
    "\n",
    "test['locations'] = test['text'].apply(getLocation)\n",
    "test['locations_b'] = test['text'].apply(getLocationBinaire)\n",
    "\n",
    "test['rt_path'] = test['text'].apply(getChemin)\n",
    "test['rt_path_b'] = test['text'].apply(getCheminBinaire)"
   ]
  },
  {
   "cell_type": "code",
   "execution_count": null,
   "metadata": {
    "colab": {
     "base_uri": "https://localhost:8080/",
     "height": 1000
    },
    "id": "yD2wVoAKl216",
    "outputId": "2307a3fb-e132-44da-f69d-50f3a4c37d4b"
   },
   "outputs": [],
   "source": [
    "train"
   ]
  },
  {
   "cell_type": "code",
   "execution_count": null,
   "metadata": {
    "colab": {
     "base_uri": "https://localhost:8080/",
     "height": 455
    },
    "id": "doXZefgGl5ia",
    "outputId": "930ee55a-76e3-4e78-febd-0f8f069d5287"
   },
   "outputs": [],
   "source": [
    "pd.crosstab(train.rt_path, train.target, margins=True, margins_name=\"Total\").sort_values('Total', ascending=False)"
   ]
  },
  {
   "cell_type": "markdown",
   "metadata": {
    "id": "X_QTqEQb_53a"
   },
   "source": [
    "#Nettoyage du contenu textuel des tweets"
   ]
  },
  {
   "cell_type": "markdown",
   "metadata": {
    "id": "JwU6nmA2CR7m"
   },
   "source": [
    "## Prenettoyage"
   ]
  },
  {
   "cell_type": "code",
   "execution_count": null,
   "metadata": {
    "id": "jIEIl5_y9xry"
   },
   "outputs": [],
   "source": [
    "# Expression régulières : ponctuation, chiffres, accents, majuscules, espaces en trop …\n",
    "import re\n",
    "def preprocessing(text):\n",
    "    text = str(text)\n",
    "\n",
    "    # Harmonisation - mise en minuscule\n",
    "    text = text.lower()\n",
    "\n",
    "    # Gestion des accents et ponctuations\n",
    "    text = re.sub(r'https?://\\S+', '', text)\n",
    "    text = re.sub(r'#\\S+', '', text)\n",
    "    text = re.sub(r'@\\S+', '', text)\n",
    "    text = re.sub(\"\\d+\", \" \", text) # normalisation nombres\n",
    "    text = re.sub('[éèê]', \"e\", text) # retrait accents\n",
    "    text = re.sub(\"[.,;:!?]\", \" \", text)\n",
    "    text = re.sub(\"[|{}\\[\\]()«»/]\", \" \", text)\n",
    "    text = re.sub(\"[“”]\", \" \", text)\n",
    "    text = re.sub(\"'\", \" \", text)\n",
    "    text = re.sub(\"’\", \" \", text)\n",
    "    text = re.sub('\"', \" \", text)\n",
    "    text = re.sub('[+-]', \" \", text)\n",
    "    text = re.sub('[=*/]', \" \", text)\n",
    "    text = re.sub(\"ô\", \"o\", text)\n",
    "    text = re.sub(\"°\", \"\", text)\n",
    "\n",
    "    # Gestion des symboles\n",
    "    text = re.sub(\"[€%$£]\", \"\", text)\n",
    "\n",
    "    # Gestions des retours à la ligne ou fin de lignes\n",
    "    text = re.sub('\\r\\n', \" \", text)\n",
    "    text = re.sub('\\n', \" \", text)\n",
    "\n",
    "    # Gestion des espaces\n",
    "    text = re.sub('\\s+', \" \", text) # espaces en trop\n",
    "    text = text.rstrip(\" \") # à droite\n",
    "    text = text.lstrip(\" \") # à gauche\n",
    "\n",
    "    return text"
   ]
  },
  {
   "cell_type": "code",
   "execution_count": null,
   "metadata": {
    "colab": {
     "base_uri": "https://localhost:8080/",
     "height": 363
    },
    "id": "2JgmRG7ZJL6W",
    "outputId": "5fcbfb53-e9f1-4a39-c143-4a1491990e77"
   },
   "outputs": [],
   "source": [
    "train['text_CLEAN'] = train['text'].apply(lambda x: preprocessing(x))\n",
    "test['text_CLEAN'] = test['text'].apply(lambda x: preprocessing(x))\n",
    "train[['text','text_CLEAN']].sample(10)"
   ]
  },
  {
   "cell_type": "markdown",
   "metadata": {
    "id": "gn1_MB6I9H0j"
   },
   "source": [
    "## Lemmatisation / Stemmisation"
   ]
  },
  {
   "cell_type": "code",
   "execution_count": null,
   "metadata": {
    "id": "lagQ9bs_HzTX"
   },
   "outputs": [],
   "source": [
    "# !pip install nltk\n",
    "import nltk\n",
    "# nltk.download('all')"
   ]
  },
  {
   "cell_type": "code",
   "execution_count": null,
   "metadata": {
    "id": "B4K_0D0XIOsv"
   },
   "outputs": [],
   "source": [
    "# !pip install -U spacy\n",
    "# !pip install -U spacy-lookups-data\n",
    "# !python -m spacy download en_core_web_sm"
   ]
  },
  {
   "cell_type": "code",
   "execution_count": null,
   "metadata": {
    "colab": {
     "base_uri": "https://localhost:8080/",
     "height": 243
    },
    "id": "79ApHV2VQfYl",
    "outputId": "4d934cfc-67cc-4ce9-9735-72cbd1336df0"
   },
   "outputs": [],
   "source": [
    "import tqdm\n",
    "def Lemmatization(train,texts):\n",
    "    pbar = tqdm.tqdm(total=train.shape[0])\n",
    "    nlp = spacy.load(\"en_core_web_sm\", disable=[\"parser\", \"ner\"])\n",
    "    texts_out = []\n",
    "    for text in texts:\n",
    "        doc = nlp(text)\n",
    "        new_text = []\n",
    "        for token in doc: \n",
    "            new_text.append(token.lemma_)\n",
    "        final = \" \".join(new_text)\n",
    "        texts_out.append(final)\n",
    "        pbar.update(1) # actualise la progress bar\n",
    "    return (texts_out)\n",
    "    pbar.close()\n",
    "\n",
    "train['text_CLEAN_LMT'] = Lemmatization(train,train['text_CLEAN'])\n",
    "test['text_CLEAN_LMT'] = Lemmatization(test,test['text_CLEAN'])\n",
    "train[['text_CLEAN','text_CLEAN_LMT']].head()"
   ]
  },
  {
   "cell_type": "code",
   "execution_count": null,
   "metadata": {
    "colab": {
     "base_uri": "https://localhost:8080/",
     "height": 206
    },
    "id": "fRd3Mo7VIHL4",
    "outputId": "3309fea6-4993-4964-c79f-7a66f9f9770d"
   },
   "outputs": [],
   "source": [
    "# Pour cette partie du traitement, les tweets doivent être décomposés en mots\n",
    "def tokenize(text):\n",
    "    text_split = [word for word in text.split()]\n",
    "    return text_split\n",
    "\n",
    "train['text_CLEAN_LMT_TOKEN'] = train['text_CLEAN_LMT'].apply(lambda x: tokenize(x))\n",
    "test['text_CLEAN_LMT_TOKEN'] = test['text_CLEAN_LMT'].apply(lambda x: tokenize(x))\n",
    "train[['text_CLEAN_LMT','text_CLEAN_LMT_TOKEN']].head()"
   ]
  },
  {
   "cell_type": "markdown",
   "metadata": {
    "id": "1M5o5sz7TrOB"
   },
   "source": []
  },
  {
   "cell_type": "markdown",
   "metadata": {
    "id": "eFG5x__yHzhw"
   },
   "source": [
    "## Retrait des stopwords"
   ]
  },
  {
   "cell_type": "code",
   "execution_count": null,
   "metadata": {
    "id": "A_DFkWY-8Pga"
   },
   "outputs": [],
   "source": [
    "nlp = spacy.load('en_core_web_sm')\n",
    "stopwords = spacy.lang.en.stop_words.STOP_WORDS\n",
    "\n",
    "stopwords = [word.lower() for word in stopwords]\n",
    "\n",
    "# conservation de certains stopwords\n",
    "liste = [\n",
    "    # mots à conserver (à exclure de la liste des stopwords par défaut)\n",
    "]\n",
    "\n",
    "stopwords = [word for word in stopwords if word not in liste]"
   ]
  },
  {
   "cell_type": "code",
   "execution_count": null,
   "metadata": {
    "colab": {
     "base_uri": "https://localhost:8080/",
     "height": 206
    },
    "id": "tssBjYmDH0VY",
    "outputId": "36bbf412-018c-4fd6-b670-4a6b4c3ca051"
   },
   "outputs": [],
   "source": [
    "def remove_stopwords(text):\n",
    "    text = [word for word in text if (len(word) > 2) and (word not in stopwords)]\n",
    "    return text\n",
    "\n",
    "train['text_CLEAN_LMT_TOKEN_WSW'] = train['text_CLEAN_LMT_TOKEN'].apply(lambda x: remove_stopwords(x))\n",
    "test['text_CLEAN_LMT_TOKEN_WSW'] = test['text_CLEAN_LMT_TOKEN'].apply(lambda x: remove_stopwords(x))\n",
    "train[['text_CLEAN_LMT_TOKEN','text_CLEAN_LMT_TOKEN_WSW']].head()"
   ]
  },
  {
   "cell_type": "markdown",
   "metadata": {
    "id": "-1ol7LQ06Zu6"
   },
   "source": [
    "## Bigrammes - Trigrammes\n",
    "\n",
    "S'effectue sur donneés tokenizées\n",
    "\n",
    "Astuce : la construction des bigrammes peut s'effectuer en ignorant les stopwords grâce au paramètre \"connector_words\". Du coup on précise d'abord la liste des stopwords afin que ces stopwords ne se retrouvent pas dans des bigrammes."
   ]
  },
  {
   "cell_type": "code",
   "execution_count": null,
   "metadata": {
    "colab": {
     "base_uri": "https://localhost:8080/"
    },
    "id": "puopeiC46aWG",
    "outputId": "5b984b53-c520-4a72-9616-b704d029bc4b"
   },
   "outputs": [],
   "source": [
    "import gensim\n",
    "\n",
    "### TRAIN\n",
    "\n",
    "data_words_train = train['text_CLEAN_LMT_TOKEN_WSW'].values.tolist()\n",
    "data_words_train\n",
    "\n",
    "# Modèles Bigrammes/Trigrammes\n",
    "bigram = gensim.models.Phrases(data_words_train, min_count=5, threshold=0,\n",
    "                              #  connector_words=stopwords,\n",
    "                               scoring = 'npmi')\n",
    "trigram = gensim.models.Phrases(bigram[data_words_train], threshold=0,\n",
    "                              #  connector_words=stopwords,\n",
    "                                scoring = 'npmi')\n",
    "\n",
    "bigram_mod = gensim.models.phrases.Phraser(bigram)\n",
    "trigram_mod = gensim.models.phrases.Phraser(trigram)\n",
    "\n",
    "# Fonctions retournant les bigrammes/trigrammes\n",
    "def make_bigrams(texts):\n",
    "    return [bigram_mod[doc] for doc in texts]\n",
    "def make_trigrams(texts):\n",
    "    return [trigram_mod[bigram_mod[doc]] for doc in texts]\n",
    "\n",
    "# Crée les bigrammes\n",
    "data_words_train_bigrams = make_bigrams(data_words_train)\n",
    "train['text_CLEAN_LMT_TOKEN_WSW_BIGRAMS'] = data_words_train_bigrams\n",
    "train['text_CLEAN_LMT_TOKEN_WSW_BIGRAMS'][:5]\n",
    "\n",
    "\n",
    "### TEST\n",
    "\n",
    "data_words_test = test['text_CLEAN_LMT_TOKEN_WSW'].values.tolist()\n",
    "data_words_test\n",
    "\n",
    "# Modèles Bigrammes/Trigrammes\n",
    "bigram = gensim.models.Phrases(data_words_test, min_count=5, threshold=0,\n",
    "                              #  connector_words=stopwords,\n",
    "                               scoring = 'npmi')\n",
    "trigram = gensim.models.Phrases(bigram[data_words_test], threshold=0,\n",
    "                              #  connector_words=stopwords,\n",
    "                                scoring = 'npmi')\n",
    "\n",
    "bigram_mod = gensim.models.phrases.Phraser(bigram)\n",
    "trigram_mod = gensim.models.phrases.Phraser(trigram)\n",
    "\n",
    "# Crée les bigrammes\n",
    "data_words_test_bigrams = make_bigrams(data_words_test)\n",
    "test['text_CLEAN_LMT_TOKEN_WSW_BIGRAMS'] = data_words_test_bigrams\n",
    "test['text_CLEAN_LMT_TOKEN_WSW_BIGRAMS'][:5]"
   ]
  },
  {
   "cell_type": "markdown",
   "metadata": {
    "id": "RsfE9Rb1N7Ll"
   },
   "source": [
    "## Detokenization"
   ]
  },
  {
   "cell_type": "code",
   "execution_count": null,
   "metadata": {
    "colab": {
     "base_uri": "https://localhost:8080/",
     "height": 206
    },
    "id": "NJPopCmRN7sa",
    "outputId": "cd9853dc-62e5-444c-ead8-fc01954f1b2b"
   },
   "outputs": [],
   "source": [
    "def detokenize_text(txt):\n",
    "    txt = ' '.join([word for word in txt])\n",
    "    return txt\n",
    "\n",
    "train['text_CLEAN_LMT_WSW_BIGRAMS'] = train['text_CLEAN_LMT_TOKEN_WSW_BIGRAMS'].apply(lambda x: detokenize_text(x))\n",
    "test['text_CLEAN_LMT_WSW_BIGRAMS'] = test['text_CLEAN_LMT_TOKEN_WSW_BIGRAMS'].apply(lambda x: detokenize_text(x))\n",
    "train[['text_CLEAN_LMT_TOKEN_WSW_BIGRAMS','text_CLEAN_LMT_WSW_BIGRAMS']].head()"
   ]
  },
  {
   "cell_type": "markdown",
   "metadata": {
    "id": "YqMoK7ywH0n4"
   },
   "source": [
    "# Modélisation"
   ]
  },
  {
   "cell_type": "markdown",
   "metadata": {
    "id": "BSKH7Z6A81_L"
   },
   "source": [
    "## Feature engineering\n",
    "\n",
    "Ici la sélection de variable consiste à conserver ou non certains mots.\n",
    "\n",
    "On peut supprimer les mots dont l'occurence est si rare que leur conservation serait source d'overfitting.\n",
    "\n",
    "Pour choisir ces mots, on peut utiliser le TF_Itrain, une grandeur qui pondère la fréquence d'un mot au sein d'un texte par rapport à sa fréquence dans un ensemble de texte.\n",
    "\n",
    "En résumé, un mot fréquent dans un texte mais qui l'est également dans tous les textes sera pénalisé, alors qu'un mot fréquent uniquement dans un texte sera favorisé. Cela permet de mettre en avant les mots qui aident à distinguer les textes entre eux, et donc contribuent à une meilleure classification."
   ]
  },
  {
   "cell_type": "code",
   "execution_count": null,
   "metadata": {
    "colab": {
     "base_uri": "https://localhost:8080/"
    },
    "id": "Z1on4Hs580mX",
    "outputId": "353e93fa-30ef-4202-c7da-b659f9180156"
   },
   "outputs": [],
   "source": [
    "# Vectorization\n",
    "from sklearn.feature_extraction.text import TfidfVectorizer\n",
    "\n",
    "# Création d'une table dont les colonnes sont les mots et les données sont les valeurs TF-Itrain\n",
    "vectorizer = TfidfVectorizer()\n",
    "vectors = vectorizer.fit_transform(train['text_CLEAN_LMT_WSW_BIGRAMS'].astype('U'))\n",
    "feature_names = vectorizer.get_feature_names_out()\n",
    "dense = vectors.todense()\n",
    "\n",
    "train_Tfidf = pd.DataFrame(dense, columns=feature_names)\n",
    "\n",
    "# Détection des mots dont la valeur TF-Itrain est peu signifiante au sein du corpus\n",
    "\n",
    "## Dataframe contenant chaque mot et leur TF-Itrain moyen\n",
    "mean_Tfidf = []\n",
    "for feature in train_Tfidf.columns.values:\n",
    "    mean_Tfidf.append(np.mean(train_Tfidf[feature]))\n",
    "    \n",
    "train_mean_Tfidf = pd.DataFrame({'word': train_Tfidf.columns.values,'mean_Tfidf': mean_Tfidf})\n",
    "\n",
    "## Liste contenant les mots dont le TF-Itrain moyen est inférieur à un seuil prédéfini\n",
    "threshold = np.percentile(train_mean_Tfidf['mean_Tfidf'],10) # on retire les X % plus bas en terme de TF-Itrain\n",
    "features_to_delete = train_mean_Tfidf['word'].loc[train_mean_Tfidf['mean_Tfidf'] < threshold]\n",
    "\n",
    "## Suppression de ces mots des texts. On met à jour la liste des stopwords avec les mots rares que l'on souhaite exclure.\n",
    "for feature in features_to_delete:\n",
    "    stopwords.extend(feature)\n",
    "\n",
    "# On tokenize, on supprime les stopwords, et on détokenize\n",
    "train['text_CLEAN_LMT_WSW_BIGRAMS_FILTERED'] = [text.split() for text in train['text_CLEAN_LMT_WSW_BIGRAMS'].astype(str)]  # le as.type(str) convertit en texte car apres nettoyage, certains tweets ne contiennent parfois plus que des numéros \n",
    "train['text_CLEAN_LMT_WSW_BIGRAMS_FILTERED'] = train['text_CLEAN_LMT_WSW_BIGRAMS_FILTERED'].apply(remove_stopwords)\n",
    "train['text_CLEAN_LMT_WSW_BIGRAMS_FILTERED'] = train['text_CLEAN_LMT_WSW_BIGRAMS_FILTERED'].apply(lambda x: detokenize_text(x))\n",
    "\n",
    "# Affichage du nombre de features final\n",
    "print('total de feature =', train_Tfidf.shape[1])\n",
    "print(features_to_delete)\n",
    "\n",
    "# Création d'un dataframe contenant les mots en tant que features TF-IDF\n",
    "train_word_features = vectorizer.fit_transform(train['text_CLEAN_LMT_WSW_BIGRAMS_FILTERED'])\n",
    "feature_names = vectorizer.get_feature_names_out()\n",
    "dense = train_word_features.todense()\n",
    "train_word_features = pd.DataFrame(dense, columns=feature_names)\n",
    "\n",
    "##################################################################################################\n",
    "\n",
    "# LE NOMBRE DE FEATURE DONNE UNE IDEE DE LA COMPLEXITE DU MODELE\n",
    "# IL FAUT LE REDUIRE AU STRICT NECESSAIRE POUR GARANTIR UN BON POUVOIR DE GENERALISATION\n",
    "\n",
    "##################################################################################################"
   ]
  },
  {
   "cell_type": "markdown",
   "metadata": {
    "id": "srYfLhVlIbbf"
   },
   "source": [
    "##GridSearch"
   ]
  },
  {
   "cell_type": "code",
   "execution_count": null,
   "metadata": {
    "colab": {
     "base_uri": "https://localhost:8080/"
    },
    "id": "ZWxXPPWhIfOP",
    "outputId": "95740d5d-2b30-403c-8195-1f24af4f68ed"
   },
   "outputs": [],
   "source": [
    "from sklearn.linear_model import LogisticRegression\n",
    "from sklearn.svm import SVC\n",
    "from sklearn.ensemble import AdaBoostClassifier\n",
    "from sklearn.ensemble import GradientBoostingClassifier\n",
    "from sklearn.ensemble import RandomForestClassifier\n",
    "from sklearn.neural_network import MLPClassifier \n",
    "\n",
    "from sklearn.model_selection import GridSearchCV\n",
    "\n",
    "X_train = pd.concat([train_word_features, train[['hashtags_b','names_b','rt_path_b','locations_b']]], axis='columns')\n",
    "\n",
    "y_train = train['target']\n",
    "\n",
    "\n",
    "#clf = RandomForestClassifier(n_estimators=5000, random_state=0)\n",
    "pipe = Pipeline([\n",
    "    (\"TdIdf\",TfidfTransformer()),\n",
    "    (\"scaler\", StandardScaler(with_mean=False)), # mean = True ne fonctionne pas avec une sparse matrix (TD-IDF)\n",
    "\n",
    "    # Modèle testé en premier (n'importe lequel)\n",
    "    (\"classifier\", LogisticRegression(random_state=0))\n",
    "    #(\"clf\",clf)\n",
    "    \n",
    "])\n",
    "\n",
    "param_grid = [\n",
    "    # Régression Logistique (one vs rest)\n",
    "    #{'classifier': [RandomForestClassifier(random_state=0)],\n",
    "    # 'classifier__C': [1,10,100]},\n",
    "    # {'classifier': [LogisticRegression(random_state=0)],\n",
    "    #  'classifier__C': [1,10,100, 1000, 10000]},\n",
    "\n",
    "    # Support Vector Machine\n",
    "    {'classifier': [SVC(kernel='rbf', random_state=0, probability = True)],\n",
    "     'classifier__C': [1,10,100]},\n",
    "    \n",
    "    # {'classifier': [MLPClassifier(random_state = 0,\n",
    "    #                         max_iter = 10,\n",
    "    #                         alpha = 1,\n",
    "    #                         hidden_layer_sizes=(100,))]},\n",
    "    #  {'classifier': [RandomForestClassifier(n_estimators=100, random_state=0)]},\n",
    "    #  {'classifier': [AdaBoostClassifier(n_estimators=100, random_state=0)]},\n",
    "    #  {'classifier': [GradientBoostingClassifier(n_estimators=100, random_state=0)]},\n",
    "             ]\n",
    "\n",
    "grid = GridSearchCV(pipe, param_grid, verbose = 2, cv = 5) # verbose pour l'affichage du temps de traitement\n",
    "grid.fit(X_train, y_train)"
   ]
  },
  {
   "cell_type": "markdown",
   "metadata": {
    "id": "cGJGyIP-IqSo"
   },
   "source": [
    "## Evaluation"
   ]
  },
  {
   "cell_type": "code",
   "execution_count": null,
   "metadata": {
    "colab": {
     "base_uri": "https://localhost:8080/"
    },
    "id": "P70wodvNIwDv",
    "outputId": "e4872d87-c611-442e-ff59-6aff32ee3cfa"
   },
   "outputs": [],
   "source": [
    "print('best model : ', grid.best_params_)\n",
    "print('best cv score : ', grid.best_score_)"
   ]
  },
  {
   "cell_type": "markdown",
   "metadata": {
    "id": "gmx5JUUA1Xao"
   },
   "source": [
    "## Récupération des prédictions"
   ]
  },
  {
   "cell_type": "code",
   "execution_count": null,
   "metadata": {
    "colab": {
     "base_uri": "https://localhost:8080/",
     "height": 423
    },
    "id": "KLe4TyL-1WwB",
    "outputId": "a82fde05-62bc-49dd-b550-d5157b64b7e7"
   },
   "outputs": [],
   "source": [
    "test_word_features = vectorizer.transform(test['text_CLEAN_LMT_WSW_BIGRAMS'].values.astype(str))\n",
    "feature_names = vectorizer.get_feature_names_out()\n",
    "dense = test_word_features.todense()\n",
    "test_word_features = pd.DataFrame(dense, columns=feature_names)\n",
    "\n",
    "X_test = pd.concat([test_word_features, test[['hashtags_b','names_b','rt_path_b','locations_b']]], axis='columns')\n",
    "\n",
    "test_predictions_tab = pd.DataFrame(grid.predict(X_test)) \\\n",
    "                            .reset_index(drop=True).rename(columns={0 : 'target_prédite'})\n",
    "\n",
    "test_probas_tab = pd.DataFrame(grid.predict_proba(X_test), columns=[grid.classes_])\n",
    "\n",
    "test_results = pd.concat([test_predictions_tab,\n",
    "                          test_probas_tab],\n",
    "                          axis=1).dropna() # probas et prédictions\n",
    "\n",
    "test_results.dropna().to_csv('test_results.csv',sep=';',encoding='utf-16')\n",
    "\n",
    "test_results"
   ]
  }
 ],
 "metadata": {
  "colab": {
   "provenance": []
  },
  "kernelspec": {
   "display_name": "Python 3 (ipykernel)",
   "language": "python",
   "name": "python3"
  },
  "language_info": {
   "codemirror_mode": {
    "name": "ipython",
    "version": 3
   },
   "file_extension": ".py",
   "mimetype": "text/x-python",
   "name": "python",
   "nbconvert_exporter": "python",
   "pygments_lexer": "ipython3",
   "version": "3.9.13"
  }
 },
 "nbformat": 4,
 "nbformat_minor": 1
}
