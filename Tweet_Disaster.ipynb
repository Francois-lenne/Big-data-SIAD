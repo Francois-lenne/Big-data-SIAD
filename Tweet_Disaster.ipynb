{
 "cells": [
  {
   "cell_type": "markdown",
   "metadata": {
    "id": "7rZc-tqFTsiS"
   },
   "source": [
    "# A FAIRE (LOUIS) : APPLIQUER TOUS LES TRAITEMENTS EGALEMENT SUR LE JEU DE DONNEES TEST"
   ]
  },
  {
   "cell_type": "markdown",
   "metadata": {
    "id": "F5vZwHgECx3l"
   },
   "source": [
    "# Chargement des bibliothèques"
   ]
  },
  {
   "cell_type": "code",
   "execution_count": 1,
   "metadata": {
    "colab": {
     "base_uri": "https://localhost:8080/"
    },
    "id": "YfWOC8yi7Rtp",
    "outputId": "f4e97b4d-1713-44c0-aaed-0144774bae5a"
   },
   "outputs": [
    {
     "name": "stdout",
     "output_type": "stream",
     "text": [
      "Requirement already satisfied: spacy in c:\\users\\franc\\anaconda3\\lib\\site-packages (3.3.1)\n",
      "Requirement already satisfied: langcodes<4.0.0,>=3.2.0 in c:\\users\\franc\\anaconda3\\lib\\site-packages (from spacy) (3.3.0)\n",
      "Requirement already satisfied: spacy-loggers<2.0.0,>=1.0.0 in c:\\users\\franc\\anaconda3\\lib\\site-packages (from spacy) (1.0.3)\n",
      "Requirement already satisfied: numpy>=1.15.0 in c:\\users\\franc\\anaconda3\\lib\\site-packages (from spacy) (1.21.5)\n",
      "Requirement already satisfied: thinc<8.1.0,>=8.0.14 in c:\\users\\franc\\anaconda3\\lib\\site-packages (from spacy) (8.0.15)\n",
      "Requirement already satisfied: pathy>=0.3.5 in c:\\users\\franc\\anaconda3\\lib\\site-packages (from spacy) (0.6.2)\n",
      "Requirement already satisfied: spacy-legacy<3.1.0,>=3.0.9 in c:\\users\\franc\\anaconda3\\lib\\site-packages (from spacy) (3.0.10)\n",
      "Requirement already satisfied: wasabi<1.1.0,>=0.9.1 in c:\\users\\franc\\anaconda3\\lib\\site-packages (from spacy) (0.9.1)\n",
      "Requirement already satisfied: cymem<2.1.0,>=2.0.2 in c:\\users\\franc\\anaconda3\\lib\\site-packages (from spacy) (2.0.6)\n",
      "Requirement already satisfied: packaging>=20.0 in c:\\users\\franc\\anaconda3\\lib\\site-packages (from spacy) (21.3)\n",
      "Requirement already satisfied: setuptools in c:\\users\\franc\\anaconda3\\lib\\site-packages (from spacy) (63.4.1)\n",
      "Requirement already satisfied: typer<0.5.0,>=0.3.0 in c:\\users\\franc\\anaconda3\\lib\\site-packages (from spacy) (0.4.2)\n",
      "Requirement already satisfied: tqdm<5.0.0,>=4.38.0 in c:\\users\\franc\\anaconda3\\lib\\site-packages (from spacy) (4.64.1)\n",
      "Requirement already satisfied: requests<3.0.0,>=2.13.0 in c:\\users\\franc\\anaconda3\\lib\\site-packages (from spacy) (2.28.1)\n",
      "Requirement already satisfied: pydantic!=1.8,!=1.8.1,<1.9.0,>=1.7.4 in c:\\users\\franc\\anaconda3\\lib\\site-packages (from spacy) (1.8.2)\n",
      "Requirement already satisfied: preshed<3.1.0,>=3.0.2 in c:\\users\\franc\\anaconda3\\lib\\site-packages (from spacy) (3.0.6)\n",
      "Requirement already satisfied: jinja2 in c:\\users\\franc\\anaconda3\\lib\\site-packages (from spacy) (2.11.3)\n",
      "Requirement already satisfied: catalogue<2.1.0,>=2.0.6 in c:\\users\\franc\\anaconda3\\lib\\site-packages (from spacy) (2.0.8)\n",
      "Requirement already satisfied: murmurhash<1.1.0,>=0.28.0 in c:\\users\\franc\\anaconda3\\lib\\site-packages (from spacy) (1.0.7)\n",
      "Requirement already satisfied: blis<0.8.0,>=0.4.0 in c:\\users\\franc\\anaconda3\\lib\\site-packages (from spacy) (0.7.8)\n",
      "Requirement already satisfied: srsly<3.0.0,>=2.4.3 in c:\\users\\franc\\anaconda3\\lib\\site-packages (from spacy) (2.4.3)\n",
      "Requirement already satisfied: pyparsing!=3.0.5,>=2.0.2 in c:\\users\\franc\\anaconda3\\lib\\site-packages (from packaging>=20.0->spacy) (3.0.9)\n",
      "Requirement already satisfied: smart-open<6.0.0,>=5.2.1 in c:\\users\\franc\\anaconda3\\lib\\site-packages (from pathy>=0.3.5->spacy) (5.2.1)\n",
      "Requirement already satisfied: typing-extensions>=3.7.4.3 in c:\\users\\franc\\anaconda3\\lib\\site-packages (from pydantic!=1.8,!=1.8.1,<1.9.0,>=1.7.4->spacy) (4.3.0)\n",
      "Requirement already satisfied: charset-normalizer<3,>=2 in c:\\users\\franc\\anaconda3\\lib\\site-packages (from requests<3.0.0,>=2.13.0->spacy) (2.0.4)\n",
      "Requirement already satisfied: urllib3<1.27,>=1.21.1 in c:\\users\\franc\\anaconda3\\lib\\site-packages (from requests<3.0.0,>=2.13.0->spacy) (1.26.11)\n",
      "Requirement already satisfied: certifi>=2017.4.17 in c:\\users\\franc\\anaconda3\\lib\\site-packages (from requests<3.0.0,>=2.13.0->spacy) (2022.9.14)\n",
      "Requirement already satisfied: idna<4,>=2.5 in c:\\users\\franc\\anaconda3\\lib\\site-packages (from requests<3.0.0,>=2.13.0->spacy) (3.3)\n",
      "Requirement already satisfied: colorama in c:\\users\\franc\\anaconda3\\lib\\site-packages (from tqdm<5.0.0,>=4.38.0->spacy) (0.4.5)\n",
      "Requirement already satisfied: click<9.0.0,>=7.1.1 in c:\\users\\franc\\anaconda3\\lib\\site-packages (from typer<0.5.0,>=0.3.0->spacy) (8.0.4)\n",
      "Requirement already satisfied: MarkupSafe>=0.23 in c:\\users\\franc\\anaconda3\\lib\\site-packages (from jinja2->spacy) (2.0.1)\n"
     ]
    }
   ],
   "source": [
    "# Classique\n",
    "import pandas as pd\n",
    "import numpy as np\n",
    "import matplotlib.pyplot as plt\n",
    "import math\n",
    "import datetime\n",
    "import os\n",
    "\n",
    "# Import Yoann\n",
    "import sys\n",
    "import re\n",
    "import string\n",
    "!{sys.executable} -m pip install spacy\n",
    "#import pandas as pd \n",
    "import re\n",
    "import spacy\n",
    "# !{sys.executable} -m spacy download en_core_web_sm\n",
    "nlp = spacy.load(\"en_core_web_sm\")\n",
    "\n",
    "\n",
    "# import françois\n",
    "\n",
    "from better_profanity import profanity # importation du package\n",
    "\n",
    "# géométrie/algèbre\n",
    "import sympy\n",
    "from sympy import symbols, Eq, solve\n",
    "\n",
    "# NLP\n",
    "#import spacy\n",
    "#import re\n",
    "#import string\n",
    "\n",
    "# ML\n",
    "from sklearn.model_selection import train_test_split\n",
    "from sklearn.feature_extraction.text import TfidfVectorizer\n",
    "from sklearn.feature_extraction.text import TfidfTransformer\n",
    "from sklearn.preprocessing import StandardScaler\n",
    "from sklearn.model_selection import train_test_split\n",
    "from sklearn.pipeline import Pipeline\n",
    "\n",
    "# Editeur\n",
    "import warnings\n",
    "warnings.filterwarnings('ignore')"
   ]
  },
  {
   "cell_type": "markdown",
   "metadata": {
    "id": "rlqxLhJtC4zc"
   },
   "source": [
    "# Chargement des données"
   ]
  },
  {
   "cell_type": "code",
   "execution_count": 2,
   "metadata": {
    "colab": {
     "base_uri": "https://localhost:8080/"
    },
    "id": "yDCXLBMXDSQo",
    "outputId": "1a3d75fb-d7b5-437b-a062-754c0d82d95c"
   },
   "outputs": [
    {
     "name": "stdout",
     "output_type": "stream",
     "text": [
      "     id             keyword                        location  \\\n",
      "0  8443            screamed                             NaN   \n",
      "1  2939              danger                             NaN   \n",
      "2  7213  natural%20disaster  Oneonta, NY/ Staten Island, NY   \n",
      "3  5526           flattened                    new york, ny   \n",
      "4   132            accident                             NaN   \n",
      "\n",
      "                                                text  target  \n",
      "0  I slammed my phone to the ground and then scre...       0  \n",
      "1  The girl that I wanna save is like a danger to...       0  \n",
      "2  its only getting colder and colder and faster ...       1  \n",
      "3  who said this? Yosemite Sam or Drumpf? ÛÏNobo...       0  \n",
      "4     ???? it was an accident http://t.co/Oia5fxi4gM       0  \n"
     ]
    }
   ],
   "source": [
    "url1 = 'https://raw.githubusercontent.com/Francois-lenne/Big-data-SIAD/main/train.csv' # le dataset est stocké dans un repo github afin d'avoir un lien dur sur la base\n",
    "train = pd.read_csv(url1, sep=',') # lecture du dataframe \n",
    "train = train.sample(1000).reset_index(drop=True)\n",
    "print(train.head())"
   ]
  },
  {
   "cell_type": "code",
   "execution_count": 3,
   "metadata": {
    "colab": {
     "base_uri": "https://localhost:8080/"
    },
    "id": "aZRKJWp58gkn",
    "outputId": "8b35f644-8a55-47a3-8dd7-0748cf99ad05"
   },
   "outputs": [
    {
     "name": "stdout",
     "output_type": "stream",
     "text": [
      "     id     keyword       location  \\\n",
      "0  5360        fire     Wonderland   \n",
      "1   101    accident            NaN   \n",
      "2  4380  earthquake            NaN   \n",
      "3  4037    disaster  NYC/LI/NJ/LHV   \n",
      "4  8104     rescued         Canada   \n",
      "\n",
      "                                                text  \n",
      "0           When your likes your Fire IG selfie ????  \n",
      "1  Just got to love burning your self on a damn c...  \n",
      "2  5.3 #Earthquake in South Of Fiji Islands. #iPh...  \n",
      "3  Not an electric debut for Severino but not a d...  \n",
      "4  10-Month-Old Baby Girl was Rescued by Coastgua...  \n"
     ]
    }
   ],
   "source": [
    "url2 = 'https://raw.githubusercontent.com/Francois-lenne/Big-data-SIAD/main/test.csv' # le dataset est stocké dans un repo github afin d'avoir un lien dur sur la base\n",
    "test = pd.read_csv(url2, sep=',') # lecture du dataframe \n",
    "test = test.sample(200).reset_index(drop=True)\n",
    "print(test.head())"
   ]
  },
  {
   "cell_type": "markdown",
   "metadata": {
    "id": "J_dBH1AiC9J8"
   },
   "source": [
    "# Analyse exploratoire"
   ]
  },
  {
   "cell_type": "code",
   "execution_count": 4,
   "metadata": {
    "colab": {
     "base_uri": "https://localhost:8080/",
     "height": 281
    },
    "id": "IJa7koDyJeUF",
    "outputId": "9222fd88-ded4-4d20-c2cf-e01d336fe311"
   },
   "outputs": [
    {
     "data": {
      "image/png": "[encoded data removed]",
      "text/plain": [
       "<Figure size 640x480 with 1 Axes>"
      ]
     },
     "metadata": {},
     "output_type": "display_data"
    }
   ],
   "source": [
    "train['text_length'] = [len(text) for text in train['text']]\n",
    "plt.violinplot(train['text_length'], vert = False)\n",
    "plt.title('Courbe de densité du nombre de caractères par tweet')\n",
    "plt.show()"
   ]
  },
  {
   "cell_type": "code",
   "execution_count": 5,
   "metadata": {
    "colab": {
     "base_uri": "https://localhost:8080/"
    },
    "id": "-2LSXVVu8i8n",
    "outputId": "ecc83ec4-dccd-4cbb-e3cf-63d679109d54"
   },
   "outputs": [
    {
     "data": {
      "text/plain": [
       "damage                   11\n",
       "eyewitness               11\n",
       "drowning                 10\n",
       "mudslide                 10\n",
       "riot                      9\n",
       "                         ..\n",
       "epicentre                 1\n",
       "radiation%20emergency     1\n",
       "threat                    1\n",
       "collapsed                 1\n",
       "explode                   1\n",
       "Name: keyword, Length: 220, dtype: int64"
      ]
     },
     "execution_count": 5,
     "metadata": {},
     "output_type": "execute_result"
    }
   ],
   "source": [
    "train['keyword'].value_counts()"
   ]
  },
  {
   "cell_type": "code",
   "execution_count": 6,
   "metadata": {
    "colab": {
     "base_uri": "https://localhost:8080/"
    },
    "id": "MoeAJGGQIQDv",
    "outputId": "99293543-94a8-41b9-99c8-13b82b1a996a"
   },
   "outputs": [
    {
     "data": {
      "text/plain": [
       "New York                          9\n",
       "USA                               9\n",
       "India                             7\n",
       "UK                                6\n",
       "Everywhere                        6\n",
       "                                 ..\n",
       "Milwaukee, WI                     1\n",
       "50% Queanbeyan - 50% Sydney       1\n",
       "#KaumElite;#F?VOR;#SMOFC          1\n",
       "sitting on the fence, New York    1\n",
       "Uruguay / Westeros / Gallifrey    1\n",
       "Name: location, Length: 558, dtype: int64"
      ]
     },
     "execution_count": 6,
     "metadata": {},
     "output_type": "execute_result"
    }
   ],
   "source": [
    "train['location'].value_counts()"
   ]
  },
  {
   "cell_type": "markdown",
   "metadata": {
    "id": "Njn-RYce_5AR"
   },
   "source": [
    "# Extraction des parties des tweets\n"
   ]
  },
  {
   "cell_type": "code",
   "execution_count": 7,
   "metadata": {
    "id": "h1XxTx7Z9FZE"
   },
   "outputs": [],
   "source": [
    "# Correction orthographique\n",
    "\n",
    "# Conversion chiffres en texte\n",
    "\n",
    "# Date\n",
    "\n",
    "# Hashtag\n",
    "\n",
    "# Liens hypertextes\n",
    "\n",
    "# Contenu textuel\n",
    "\n",
    "# Noms profils\n",
    "\n",
    "# Enrichissement de la localisation"
   ]
  },
  {
   "cell_type": "code",
   "execution_count": 8,
   "metadata": {
    "id": "-5qqL41ClM1a"
   },
   "outputs": [],
   "source": [
    "# Récupération des hashtag\n",
    "\n",
    "def recupHashtag(text):\n",
    "    reg = r\"#(\\w+)\"\n",
    "    p = re.compile(reg)\n",
    "    check = re.search(reg,text)\n",
    "    if check is not None:\n",
    "        ge = p.findall(text)\n",
    "        ge_join = ' '.join(ge)\n",
    "        return ge_join\n",
    "\n",
    "def recupHashtagBinaire(text):\n",
    "    rep = '0'\n",
    "    reg = r\"#(\\w+)\"\n",
    "    p = re.compile(reg)\n",
    "    check = re.search(reg,text)\n",
    "    if check is not None:\n",
    "      rep = '1'\n",
    "    return rep\n"
   ]
  },
  {
   "cell_type": "code",
   "execution_count": 9,
   "metadata": {
    "id": "uuD7ia46lfvi"
   },
   "outputs": [],
   "source": [
    "def recupName(text):\n",
    "    reg = r\"@(\\w+)\"\n",
    "    p = re.compile(reg)\n",
    "    check = re.search(reg,text)\n",
    "    if check is not None:\n",
    "        ge = p.findall(text)\n",
    "        ge_join = ' '.join(ge)\n",
    "        return ge_join\n",
    "\n",
    "def recupNameBinaire(text):\n",
    "    rep = '0'\n",
    "    reg = r\"@(\\w+)\"\n",
    "    p = re.compile(reg)\n",
    "    check = re.search(reg,text)\n",
    "    if check is not None:\n",
    "      rep = '1'\n",
    "    return rep\n",
    "        \n"
   ]
  },
  {
   "cell_type": "code",
   "execution_count": 10,
   "metadata": {
    "id": "UA-F1GLXlg_5"
   },
   "outputs": [],
   "source": [
    "def recupDate(text):\n",
    "    reg = r\"([A-Za-z]{3})\\s(\\d{1,2}),\\s(\\d{4})\"\n",
    "    p = re.compile(reg)\n",
    "    check = re.search(reg,text)\n",
    "    if check is not None:\n",
    "        ge = p.findall(text)\n",
    "        return ge\n",
    "\n",
    "def recupDateBinaire(text):\n",
    "    rep = '0'\n",
    "    reg = r\"([A-Za-z]{3})\\s(\\d{1,2}),\\s(\\d{4})\"\n",
    "    p = re.compile(reg)\n",
    "    check = re.search(reg,text)\n",
    "    if check is not None:\n",
    "      rep = '1'\n",
    "    return rep\n",
    "    \n"
   ]
  },
  {
   "cell_type": "code",
   "execution_count": 11,
   "metadata": {
    "id": "xFQP80HyliZa"
   },
   "outputs": [],
   "source": [
    "def getChemin(text):\n",
    "    reg1 = r'(https?:\\/\\/[^\\s]+)'\n",
    "    reg2 = r'(https?)://([^:/]+)(?::(\\d+))?(/[^?]*)?(\\?[^#]*)?(#.*)?'\n",
    "    p = re.compile(reg1)\n",
    "    check = re.search(reg1,text)\n",
    "    if check is not None:\n",
    "        ge = p.findall(text)\n",
    "        for val in ge:\n",
    "            match = re.search(reg2,val)\n",
    "            if match:\n",
    "                rt = match.group(4)\n",
    "            return rt\n",
    "\n",
    "def getCheminBinaire(text):\n",
    "    rep = '0'\n",
    "    reg1 = r'(https?:\\/\\/[^\\s]+)'\n",
    "    p = re.compile(reg1)\n",
    "    check = re.search(reg1,text)\n",
    "    if check is not None:\n",
    "      rep = '1'\n",
    "    return rep"
   ]
  },
  {
   "cell_type": "code",
   "execution_count": 12,
   "metadata": {
    "id": "ri_mrjIFlu9B"
   },
   "outputs": [],
   "source": [
    "def getLocation(text):\n",
    "    global nlp\n",
    "    save = []\n",
    "    doc = nlp(text)\n",
    "    for ent in doc.ents:\n",
    "        if ent.label_ == \"GPE\":\n",
    "            save.append(ent.text)\n",
    "    return save"
   ]
  },
  {
   "cell_type": "code",
   "execution_count": 13,
   "metadata": {
    "id": "hoEMzQ5e3Ewv"
   },
   "outputs": [],
   "source": [
    "def getLocationBinaire(text):\n",
    "    rep = \"0\"\n",
    "    global nlp\n",
    "    doc = nlp(text)\n",
    "    for ent in doc.ents:\n",
    "        if ent.label_ == \"GPE\":\n",
    "            rep = \"1\"\n",
    "    return rep"
   ]
  },
  {
   "cell_type": "code",
   "execution_count": 14,
   "metadata": {},
   "outputs": [],
   "source": [
    "def profanity(text):\n",
    "    from better_profanity import profanity \n",
    "    check = profanity.contains_profanity(text)\n",
    "    return(check)"
   ]
  },
  {
   "cell_type": "code",
   "execution_count": 15,
   "metadata": {},
   "outputs": [],
   "source": [
    "def GPE(text):\n",
    "    global nlp\n",
    "    save = []\n",
    "    doc = nlp(text)\n",
    "    for ent in doc.ents:\n",
    "            save.append(ent.label_)\n",
    "    if (\"GPE\" in save):\n",
    "        GPE_exist = 1\n",
    "    else:\n",
    "        GPE_exist = 0\n",
    "    return GPE_exist  "
   ]
  },
  {
   "cell_type": "code",
   "execution_count": 16,
   "metadata": {},
   "outputs": [],
   "source": [
    "def NORP(text):\n",
    "    global nlp\n",
    "    save = []\n",
    "    doc = nlp(text)\n",
    "    for ent in doc.ents:\n",
    "            save.append(ent.label_)\n",
    "    if (\"NORP\" in save):\n",
    "        NORP_exist = 1\n",
    "    else:\n",
    "        NORP_exist = 0\n",
    "    return NORP_exist   \n",
    "\n"
   ]
  },
  {
   "cell_type": "code",
   "execution_count": 17,
   "metadata": {},
   "outputs": [],
   "source": [
    "def ORG(text):\n",
    "    global nlp\n",
    "    save = []\n",
    "    doc = nlp(text)\n",
    "    for ent in doc.ents:\n",
    "            save.append(ent.label_)\n",
    "    if (\"ORG\" in save):\n",
    "        ORG_exist = 1\n",
    "    else:\n",
    "        ORG_exist = 0\n",
    "    return ORG_exist   \n",
    "\n"
   ]
  },
  {
   "cell_type": "code",
   "execution_count": 18,
   "metadata": {},
   "outputs": [],
   "source": [
    "def DATE(text):\n",
    "    global nlp\n",
    "    save = []\n",
    "    doc = nlp(text)\n",
    "    for ent in doc.ents:\n",
    "            save.append(ent.label_)\n",
    "    if (\"DATE\" in save):\n",
    "        DATE_exist = 1\n",
    "    else:\n",
    "        DATE_exist = 0\n",
    "    return DATE_exist   \n",
    "\n",
    "\n"
   ]
  },
  {
   "cell_type": "code",
   "execution_count": 19,
   "metadata": {},
   "outputs": [],
   "source": [
    "def PERSON(text):\n",
    "    global nlp\n",
    "    save = []\n",
    "    doc = nlp(text)\n",
    "    for ent in doc.ents:\n",
    "            save.append(ent.label_)\n",
    "    if (\"PERSON\" in save):\n",
    "        PERSON_exist = 1\n",
    "    else:\n",
    "        PERSON_exist = 0\n",
    "    return PERSON_exist   \n"
   ]
  },
  {
   "cell_type": "code",
   "execution_count": 20,
   "metadata": {},
   "outputs": [],
   "source": [
    "def sentiment_tweet(tweet):\n",
    "    from nltk.sentiment import SentimentIntensityAnalyzer\n",
    "    sia = SentimentIntensityAnalyzer()\n",
    "    if sia.polarity_scores(tweet)[\"compound\"] > 0:\n",
    "        nltk_val = \"positif\"\n",
    "    elif sia.polarity_scores(tweet)[\"compound\"] < 0:\n",
    "        nltk_val = \"negative\"\n",
    "    else:\n",
    "        nltk_val = \"neutral\"\n",
    "    return nltk_val"
   ]
  },
  {
   "cell_type": "code",
   "execution_count": null,
   "metadata": {},
   "outputs": [],
   "source": []
  },
  {
   "cell_type": "code",
   "execution_count": 21,
   "metadata": {
    "id": "sG4oHbVOlzkp"
   },
   "outputs": [],
   "source": [
    "train['hashtags'] = train['text'].apply(recupHashtag)\n",
    "train['hashtags_b'] = train['text'].apply(recupHashtagBinaire)\n",
    "\n",
    "train[\"sentiment_tweet\"] = train[\"text\"].apply(sentiment_tweet)\n",
    "\n",
    "train[\"GPE_exist\"] = train[\"text\"].apply(GPE)\n",
    "\n",
    "train[\"NORP_exist\"] = train[\"text\"].apply(NORP)\n",
    "\n",
    "train[\"ORG_exist\"] = train[\"text\"].apply(ORG)\n",
    "\n",
    "train[\"DATE_exist\"] = train[\"text\"].apply(DATE)\n",
    "\n",
    "train[\"PERSON_exist\"] = train[\"text\"].apply(PERSON)\n",
    "\n",
    "train[\"profanity\"] = train[\"text\"].apply(profanity)\n",
    "\n",
    "train['names'] = train['text'].apply(recupName)\n",
    "train['names_b'] = train['text'].apply(recupNameBinaire)\n",
    "\n",
    "train['dates'] = train['text'].apply(recupDate)\n",
    "train['dates_b'] = train['text'].apply(recupDateBinaire)\n",
    "\n",
    "train['locations'] = train['text'].apply(getLocation)\n",
    "train['locations_b'] = train['text'].apply(getLocationBinaire)\n",
    "\n",
    "train['rt_path'] = train['text'].apply(getChemin)\n",
    "train['rt_path_b'] = train['text'].apply(getCheminBinaire)"
   ]
  },
  {
   "cell_type": "code",
   "execution_count": 22,
   "metadata": {
    "id": "uRx8DMOTLDby"
   },
   "outputs": [],
   "source": [
    "test['hashtags'] = test['text'].apply(recupHashtag)\n",
    "test['hashtags_b'] = test['text'].apply(recupHashtagBinaire)\n",
    "\n",
    "test['names'] = test['text'].apply(recupName)\n",
    "test['names_b'] = test['text'].apply(recupNameBinaire)\n",
    "\n",
    "test['dates'] = test['text'].apply(recupDate)\n",
    "test['dates_b'] = test['text'].apply(recupDateBinaire)\n",
    "\n",
    "test['locations'] = test['text'].apply(getLocation)\n",
    "test['locations_b'] = test['text'].apply(getLocationBinaire)\n",
    "\n",
    "test['rt_path'] = test['text'].apply(getChemin)\n",
    "test['rt_path_b'] = test['text'].apply(getCheminBinaire)"
   ]
  },
  {
   "cell_type": "code",
   "execution_count": 23,
   "metadata": {
    "colab": {
     "base_uri": "https://localhost:8080/",
     "height": 1000
    },
    "id": "yD2wVoAKl216",
    "outputId": "2307a3fb-e132-44da-f69d-50f3a4c37d4b"
   },
   "outputs": [
    {
     "data": {
      "text/html": [
       "<div>\n",
       "<style scoped>\n",
       "    .dataframe tbody tr th:only-of-type {\n",
       "        vertical-align: middle;\n",
       "    }\n",
       "\n",
       "    .dataframe tbody tr th {\n",
       "        vertical-align: top;\n",
       "    }\n",
       "\n",
       "    .dataframe thead th {\n",
       "        text-align: right;\n",
       "    }\n",
       "</style>\n",
       "<table border=\"1\" class=\"dataframe\">\n",
       "  <thead>\n",
       "    <tr style=\"text-align: right;\">\n",
       "      <th></th>\n",
       "      <th>id</th>\n",
       "      <th>keyword</th>\n",
       "      <th>location</th>\n",
       "      <th>text</th>\n",
       "      <th>target</th>\n",
       "      <th>text_length</th>\n",
       "      <th>hashtags</th>\n",
       "      <th>hashtags_b</th>\n",
       "      <th>sentiment_tweet</th>\n",
       "      <th>GPE_exist</th>\n",
       "      <th>...</th>\n",
       "      <th>PERSON_exist</th>\n",
       "      <th>profanity</th>\n",
       "      <th>names</th>\n",
       "      <th>names_b</th>\n",
       "      <th>dates</th>\n",
       "      <th>dates_b</th>\n",
       "      <th>locations</th>\n",
       "      <th>locations_b</th>\n",
       "      <th>rt_path</th>\n",
       "      <th>rt_path_b</th>\n",
       "    </tr>\n",
       "  </thead>\n",
       "  <tbody>\n",
       "    <tr>\n",
       "      <th>0</th>\n",
       "      <td>8443</td>\n",
       "      <td>screamed</td>\n",
       "      <td>NaN</td>\n",
       "      <td>I slammed my phone to the ground and then scre...</td>\n",
       "      <td>0</td>\n",
       "      <td>59</td>\n",
       "      <td>None</td>\n",
       "      <td>0</td>\n",
       "      <td>negative</td>\n",
       "      <td>0</td>\n",
       "      <td>...</td>\n",
       "      <td>0</td>\n",
       "      <td>False</td>\n",
       "      <td>None</td>\n",
       "      <td>0</td>\n",
       "      <td>None</td>\n",
       "      <td>0</td>\n",
       "      <td>[]</td>\n",
       "      <td>0</td>\n",
       "      <td>None</td>\n",
       "      <td>0</td>\n",
       "    </tr>\n",
       "    <tr>\n",
       "      <th>1</th>\n",
       "      <td>2939</td>\n",
       "      <td>danger</td>\n",
       "      <td>NaN</td>\n",
       "      <td>The girl that I wanna save is like a danger to...</td>\n",
       "      <td>0</td>\n",
       "      <td>109</td>\n",
       "      <td>None</td>\n",
       "      <td>0</td>\n",
       "      <td>positif</td>\n",
       "      <td>0</td>\n",
       "      <td>...</td>\n",
       "      <td>0</td>\n",
       "      <td>False</td>\n",
       "      <td>None</td>\n",
       "      <td>0</td>\n",
       "      <td>None</td>\n",
       "      <td>0</td>\n",
       "      <td>[]</td>\n",
       "      <td>0</td>\n",
       "      <td>None</td>\n",
       "      <td>0</td>\n",
       "    </tr>\n",
       "    <tr>\n",
       "      <th>2</th>\n",
       "      <td>7213</td>\n",
       "      <td>natural%20disaster</td>\n",
       "      <td>Oneonta, NY/ Staten Island, NY</td>\n",
       "      <td>its only getting colder and colder and faster ...</td>\n",
       "      <td>1</td>\n",
       "      <td>116</td>\n",
       "      <td>None</td>\n",
       "      <td>0</td>\n",
       "      <td>negative</td>\n",
       "      <td>0</td>\n",
       "      <td>...</td>\n",
       "      <td>0</td>\n",
       "      <td>False</td>\n",
       "      <td>None</td>\n",
       "      <td>0</td>\n",
       "      <td>None</td>\n",
       "      <td>0</td>\n",
       "      <td>[]</td>\n",
       "      <td>0</td>\n",
       "      <td>None</td>\n",
       "      <td>0</td>\n",
       "    </tr>\n",
       "    <tr>\n",
       "      <th>3</th>\n",
       "      <td>5526</td>\n",
       "      <td>flattened</td>\n",
       "      <td>new york, ny</td>\n",
       "      <td>who said this? Yosemite Sam or Drumpf? ÛÏNobo...</td>\n",
       "      <td>0</td>\n",
       "      <td>122</td>\n",
       "      <td>None</td>\n",
       "      <td>0</td>\n",
       "      <td>neutral</td>\n",
       "      <td>0</td>\n",
       "      <td>...</td>\n",
       "      <td>1</td>\n",
       "      <td>False</td>\n",
       "      <td>None</td>\n",
       "      <td>0</td>\n",
       "      <td>None</td>\n",
       "      <td>0</td>\n",
       "      <td>[]</td>\n",
       "      <td>0</td>\n",
       "      <td>None</td>\n",
       "      <td>0</td>\n",
       "    </tr>\n",
       "    <tr>\n",
       "      <th>4</th>\n",
       "      <td>132</td>\n",
       "      <td>accident</td>\n",
       "      <td>NaN</td>\n",
       "      <td>???? it was an accident http://t.co/Oia5fxi4gM</td>\n",
       "      <td>0</td>\n",
       "      <td>46</td>\n",
       "      <td>None</td>\n",
       "      <td>0</td>\n",
       "      <td>negative</td>\n",
       "      <td>0</td>\n",
       "      <td>...</td>\n",
       "      <td>0</td>\n",
       "      <td>False</td>\n",
       "      <td>None</td>\n",
       "      <td>0</td>\n",
       "      <td>None</td>\n",
       "      <td>0</td>\n",
       "      <td>[]</td>\n",
       "      <td>0</td>\n",
       "      <td>/Oia5fxi4gM</td>\n",
       "      <td>1</td>\n",
       "    </tr>\n",
       "    <tr>\n",
       "      <th>...</th>\n",
       "      <td>...</td>\n",
       "      <td>...</td>\n",
       "      <td>...</td>\n",
       "      <td>...</td>\n",
       "      <td>...</td>\n",
       "      <td>...</td>\n",
       "      <td>...</td>\n",
       "      <td>...</td>\n",
       "      <td>...</td>\n",
       "      <td>...</td>\n",
       "      <td>...</td>\n",
       "      <td>...</td>\n",
       "      <td>...</td>\n",
       "      <td>...</td>\n",
       "      <td>...</td>\n",
       "      <td>...</td>\n",
       "      <td>...</td>\n",
       "      <td>...</td>\n",
       "      <td>...</td>\n",
       "      <td>...</td>\n",
       "      <td>...</td>\n",
       "    </tr>\n",
       "    <tr>\n",
       "      <th>995</th>\n",
       "      <td>8625</td>\n",
       "      <td>seismic</td>\n",
       "      <td>NaN</td>\n",
       "      <td>#Sismo DETECTADO #JapÌ_n [Report 3] 01:02:17 O...</td>\n",
       "      <td>1</td>\n",
       "      <td>118</td>\n",
       "      <td>Sismo JapÌ_n</td>\n",
       "      <td>1</td>\n",
       "      <td>neutral</td>\n",
       "      <td>0</td>\n",
       "      <td>...</td>\n",
       "      <td>0</td>\n",
       "      <td>False</td>\n",
       "      <td>None</td>\n",
       "      <td>0</td>\n",
       "      <td>None</td>\n",
       "      <td>0</td>\n",
       "      <td>[]</td>\n",
       "      <td>0</td>\n",
       "      <td>None</td>\n",
       "      <td>0</td>\n",
       "    </tr>\n",
       "    <tr>\n",
       "      <th>996</th>\n",
       "      <td>6346</td>\n",
       "      <td>hostages</td>\n",
       "      <td>NaN</td>\n",
       "      <td>Natalie Stavola our co-star explains her role ...</td>\n",
       "      <td>0</td>\n",
       "      <td>138</td>\n",
       "      <td>LH_movie indiefilm comingsoon</td>\n",
       "      <td>1</td>\n",
       "      <td>positif</td>\n",
       "      <td>0</td>\n",
       "      <td>...</td>\n",
       "      <td>1</td>\n",
       "      <td>False</td>\n",
       "      <td>None</td>\n",
       "      <td>0</td>\n",
       "      <td>None</td>\n",
       "      <td>0</td>\n",
       "      <td>[]</td>\n",
       "      <td>0</td>\n",
       "      <td>/2Dw23pMF4B</td>\n",
       "      <td>1</td>\n",
       "    </tr>\n",
       "    <tr>\n",
       "      <th>997</th>\n",
       "      <td>5856</td>\n",
       "      <td>hailstorm</td>\n",
       "      <td>Calgary, Alberta</td>\n",
       "      <td>Ready for my close up... Errrr nope!! #notgoin...</td>\n",
       "      <td>1</td>\n",
       "      <td>139</td>\n",
       "      <td>notgoingoutinthat hailstorm alberta</td>\n",
       "      <td>1</td>\n",
       "      <td>positif</td>\n",
       "      <td>0</td>\n",
       "      <td>...</td>\n",
       "      <td>0</td>\n",
       "      <td>False</td>\n",
       "      <td>HellOnWheelsAMC HoW_fans TalkingHell</td>\n",
       "      <td>1</td>\n",
       "      <td>None</td>\n",
       "      <td>0</td>\n",
       "      <td>[]</td>\n",
       "      <td>0</td>\n",
       "      <td>/9gIAXD6JTY</td>\n",
       "      <td>1</td>\n",
       "    </tr>\n",
       "    <tr>\n",
       "      <th>998</th>\n",
       "      <td>8784</td>\n",
       "      <td>siren</td>\n",
       "      <td>Everywhere</td>\n",
       "      <td>@LA_Siren Thanks for joining the foot. @VVorm</td>\n",
       "      <td>0</td>\n",
       "      <td>45</td>\n",
       "      <td>None</td>\n",
       "      <td>0</td>\n",
       "      <td>positif</td>\n",
       "      <td>0</td>\n",
       "      <td>...</td>\n",
       "      <td>0</td>\n",
       "      <td>False</td>\n",
       "      <td>LA_Siren VVorm</td>\n",
       "      <td>1</td>\n",
       "      <td>None</td>\n",
       "      <td>0</td>\n",
       "      <td>[]</td>\n",
       "      <td>0</td>\n",
       "      <td>None</td>\n",
       "      <td>0</td>\n",
       "    </tr>\n",
       "    <tr>\n",
       "      <th>999</th>\n",
       "      <td>9730</td>\n",
       "      <td>tragedy</td>\n",
       "      <td>NaN</td>\n",
       "      <td>#ModiMinistry Rly tragedy in MP: Some live to ...</td>\n",
       "      <td>1</td>\n",
       "      <td>83</td>\n",
       "      <td>ModiMinistry</td>\n",
       "      <td>1</td>\n",
       "      <td>negative</td>\n",
       "      <td>0</td>\n",
       "      <td>...</td>\n",
       "      <td>0</td>\n",
       "      <td>False</td>\n",
       "      <td>None</td>\n",
       "      <td>0</td>\n",
       "      <td>None</td>\n",
       "      <td>0</td>\n",
       "      <td>[]</td>\n",
       "      <td>0</td>\n",
       "      <td>/s43wE7Oe2i</td>\n",
       "      <td>1</td>\n",
       "    </tr>\n",
       "  </tbody>\n",
       "</table>\n",
       "<p>1000 rows × 23 columns</p>\n",
       "</div>"
      ],
      "text/plain": [
       "       id             keyword                        location  \\\n",
       "0    8443            screamed                             NaN   \n",
       "1    2939              danger                             NaN   \n",
       "2    7213  natural%20disaster  Oneonta, NY/ Staten Island, NY   \n",
       "3    5526           flattened                    new york, ny   \n",
       "4     132            accident                             NaN   \n",
       "..    ...                 ...                             ...   \n",
       "995  8625             seismic                             NaN   \n",
       "996  6346            hostages                             NaN   \n",
       "997  5856           hailstorm                Calgary, Alberta   \n",
       "998  8784               siren                      Everywhere   \n",
       "999  9730             tragedy                             NaN   \n",
       "\n",
       "                                                  text  target  text_length  \\\n",
       "0    I slammed my phone to the ground and then scre...       0           59   \n",
       "1    The girl that I wanna save is like a danger to...       0          109   \n",
       "2    its only getting colder and colder and faster ...       1          116   \n",
       "3    who said this? Yosemite Sam or Drumpf? ÛÏNobo...       0          122   \n",
       "4       ???? it was an accident http://t.co/Oia5fxi4gM       0           46   \n",
       "..                                                 ...     ...          ...   \n",
       "995  #Sismo DETECTADO #JapÌ_n [Report 3] 01:02:17 O...       1          118   \n",
       "996  Natalie Stavola our co-star explains her role ...       0          138   \n",
       "997  Ready for my close up... Errrr nope!! #notgoin...       1          139   \n",
       "998      @LA_Siren Thanks for joining the foot. @VVorm       0           45   \n",
       "999  #ModiMinistry Rly tragedy in MP: Some live to ...       1           83   \n",
       "\n",
       "                                hashtags hashtags_b sentiment_tweet  \\\n",
       "0                                   None          0        negative   \n",
       "1                                   None          0         positif   \n",
       "2                                   None          0        negative   \n",
       "3                                   None          0         neutral   \n",
       "4                                   None          0        negative   \n",
       "..                                   ...        ...             ...   \n",
       "995                         Sismo JapÌ_n          1         neutral   \n",
       "996        LH_movie indiefilm comingsoon          1         positif   \n",
       "997  notgoingoutinthat hailstorm alberta          1         positif   \n",
       "998                                 None          0         positif   \n",
       "999                         ModiMinistry          1        negative   \n",
       "\n",
       "     GPE_exist  ...  PERSON_exist  profanity  \\\n",
       "0            0  ...             0      False   \n",
       "1            0  ...             0      False   \n",
       "2            0  ...             0      False   \n",
       "3            0  ...             1      False   \n",
       "4            0  ...             0      False   \n",
       "..         ...  ...           ...        ...   \n",
       "995          0  ...             0      False   \n",
       "996          0  ...             1      False   \n",
       "997          0  ...             0      False   \n",
       "998          0  ...             0      False   \n",
       "999          0  ...             0      False   \n",
       "\n",
       "                                    names  names_b  dates dates_b locations  \\\n",
       "0                                    None        0   None       0        []   \n",
       "1                                    None        0   None       0        []   \n",
       "2                                    None        0   None       0        []   \n",
       "3                                    None        0   None       0        []   \n",
       "4                                    None        0   None       0        []   \n",
       "..                                    ...      ...    ...     ...       ...   \n",
       "995                                  None        0   None       0        []   \n",
       "996                                  None        0   None       0        []   \n",
       "997  HellOnWheelsAMC HoW_fans TalkingHell        1   None       0        []   \n",
       "998                        LA_Siren VVorm        1   None       0        []   \n",
       "999                                  None        0   None       0        []   \n",
       "\n",
       "    locations_b      rt_path rt_path_b  \n",
       "0             0         None         0  \n",
       "1             0         None         0  \n",
       "2             0         None         0  \n",
       "3             0         None         0  \n",
       "4             0  /Oia5fxi4gM         1  \n",
       "..          ...          ...       ...  \n",
       "995           0         None         0  \n",
       "996           0  /2Dw23pMF4B         1  \n",
       "997           0  /9gIAXD6JTY         1  \n",
       "998           0         None         0  \n",
       "999           0  /s43wE7Oe2i         1  \n",
       "\n",
       "[1000 rows x 23 columns]"
      ]
     },
     "execution_count": 23,
     "metadata": {},
     "output_type": "execute_result"
    }
   ],
   "source": [
    "train"
   ]
  },
  {
   "cell_type": "code",
   "execution_count": 24,
   "metadata": {
    "colab": {
     "base_uri": "https://localhost:8080/",
     "height": 455
    },
    "id": "doXZefgGl5ia",
    "outputId": "930ee55a-76e3-4e78-febd-0f8f069d5287"
   },
   "outputs": [
    {
     "data": {
      "text/html": [
       "<div>\n",
       "<style scoped>\n",
       "    .dataframe tbody tr th:only-of-type {\n",
       "        vertical-align: middle;\n",
       "    }\n",
       "\n",
       "    .dataframe tbody tr th {\n",
       "        vertical-align: top;\n",
       "    }\n",
       "\n",
       "    .dataframe thead th {\n",
       "        text-align: right;\n",
       "    }\n",
       "</style>\n",
       "<table border=\"1\" class=\"dataframe\">\n",
       "  <thead>\n",
       "    <tr style=\"text-align: right;\">\n",
       "      <th>target</th>\n",
       "      <th>0</th>\n",
       "      <th>1</th>\n",
       "      <th>Total</th>\n",
       "    </tr>\n",
       "    <tr>\n",
       "      <th>rt_path</th>\n",
       "      <th></th>\n",
       "      <th></th>\n",
       "      <th></th>\n",
       "    </tr>\n",
       "  </thead>\n",
       "  <tbody>\n",
       "    <tr>\n",
       "      <th>Total</th>\n",
       "      <td>237</td>\n",
       "      <td>290</td>\n",
       "      <td>527</td>\n",
       "    </tr>\n",
       "    <tr>\n",
       "      <th>/cEdCUgEuWs</th>\n",
       "      <td>0</td>\n",
       "      <td>2</td>\n",
       "      <td>2</td>\n",
       "    </tr>\n",
       "    <tr>\n",
       "      <th>/hylMo0WgFI</th>\n",
       "      <td>0</td>\n",
       "      <td>1</td>\n",
       "      <td>1</td>\n",
       "    </tr>\n",
       "    <tr>\n",
       "      <th>/hrqCJdovJZ</th>\n",
       "      <td>1</td>\n",
       "      <td>0</td>\n",
       "      <td>1</td>\n",
       "    </tr>\n",
       "    <tr>\n",
       "      <th>/hTxAi05y7B</th>\n",
       "      <td>0</td>\n",
       "      <td>1</td>\n",
       "      <td>1</td>\n",
       "    </tr>\n",
       "    <tr>\n",
       "      <th>...</th>\n",
       "      <td>...</td>\n",
       "      <td>...</td>\n",
       "      <td>...</td>\n",
       "    </tr>\n",
       "    <tr>\n",
       "      <th>/KK8cnppZMk</th>\n",
       "      <td>1</td>\n",
       "      <td>0</td>\n",
       "      <td>1</td>\n",
       "    </tr>\n",
       "    <tr>\n",
       "      <th>/KJsvW06GBV</th>\n",
       "      <td>0</td>\n",
       "      <td>1</td>\n",
       "      <td>1</td>\n",
       "    </tr>\n",
       "    <tr>\n",
       "      <th>/KE1ZS6NAml</th>\n",
       "      <td>1</td>\n",
       "      <td>0</td>\n",
       "      <td>1</td>\n",
       "    </tr>\n",
       "    <tr>\n",
       "      <th>/K4H8cq7puo</th>\n",
       "      <td>1</td>\n",
       "      <td>0</td>\n",
       "      <td>1</td>\n",
       "    </tr>\n",
       "    <tr>\n",
       "      <th>/Vn2Fnmy7li</th>\n",
       "      <td>0</td>\n",
       "      <td>1</td>\n",
       "      <td>1</td>\n",
       "    </tr>\n",
       "  </tbody>\n",
       "</table>\n",
       "<p>527 rows × 3 columns</p>\n",
       "</div>"
      ],
      "text/plain": [
       "target         0    1  Total\n",
       "rt_path                     \n",
       "Total        237  290    527\n",
       "/cEdCUgEuWs    0    2      2\n",
       "/hylMo0WgFI    0    1      1\n",
       "/hrqCJdovJZ    1    0      1\n",
       "/hTxAi05y7B    0    1      1\n",
       "...          ...  ...    ...\n",
       "/KK8cnppZMk    1    0      1\n",
       "/KJsvW06GBV    0    1      1\n",
       "/KE1ZS6NAml    1    0      1\n",
       "/K4H8cq7puo    1    0      1\n",
       "/Vn2Fnmy7li    0    1      1\n",
       "\n",
       "[527 rows x 3 columns]"
      ]
     },
     "execution_count": 24,
     "metadata": {},
     "output_type": "execute_result"
    }
   ],
   "source": [
    "pd.crosstab(train.rt_path, train.target, margins=True, margins_name=\"Total\").sort_values('Total', ascending=False)"
   ]
  },
  {
   "cell_type": "markdown",
   "metadata": {
    "id": "X_QTqEQb_53a"
   },
   "source": [
    "# Nettoyage du contenu textuel des tweets"
   ]
  },
  {
   "cell_type": "markdown",
   "metadata": {
    "id": "JwU6nmA2CR7m"
   },
   "source": [
    "## Prenettoyage"
   ]
  },
  {
   "cell_type": "code",
   "execution_count": 25,
   "metadata": {
    "id": "jIEIl5_y9xry"
   },
   "outputs": [],
   "source": [
    "# Expression régulières : ponctuation, chiffres, accents, majuscules, espaces en trop …\n",
    "import re\n",
    "def preprocessing(text):\n",
    "    text = str(text)\n",
    "\n",
    "    # Harmonisation - mise en minuscule\n",
    "    text = text.lower()\n",
    "\n",
    "    # Gestion des accents et ponctuations\n",
    "    text = re.sub(r'https?://\\S+', '', text)\n",
    "    text = re.sub(r'#\\S+', '', text)\n",
    "    text = re.sub(r'@\\S+', '', text)\n",
    "    text = re.sub(\"\\d+\", \" \", text) # normalisation nombres\n",
    "    text = re.sub('[éèê]', \"e\", text) # retrait accents\n",
    "    text = re.sub(\"[.,;:!?]\", \" \", text)\n",
    "    text = re.sub(\"[|{}\\[\\]()«»/]\", \" \", text)\n",
    "    text = re.sub(\"[“”]\", \" \", text)\n",
    "    text = re.sub(\"'\", \" \", text)\n",
    "    text = re.sub(\"’\", \" \", text)\n",
    "    text = re.sub('\"', \" \", text)\n",
    "    text = re.sub('[+-]', \" \", text)\n",
    "    text = re.sub('[=*/]', \" \", text)\n",
    "    text = re.sub(\"ô\", \"o\", text)\n",
    "    text = re.sub(\"°\", \"\", text)\n",
    "\n",
    "    # Gestion des symboles\n",
    "    text = re.sub(\"[€%$£]\", \"\", text)\n",
    "\n",
    "    # Gestions des retours à la ligne ou fin de lignes\n",
    "    text = re.sub('\\r\\n', \" \", text)\n",
    "    text = re.sub('\\n', \" \", text)\n",
    "\n",
    "    # Gestion des espaces\n",
    "    text = re.sub('\\s+', \" \", text) # espaces en trop\n",
    "    text = text.rstrip(\" \") # à droite\n",
    "    text = text.lstrip(\" \") # à gauche\n",
    "\n",
    "    return text"
   ]
  },
  {
   "cell_type": "code",
   "execution_count": 26,
   "metadata": {
    "colab": {
     "base_uri": "https://localhost:8080/",
     "height": 363
    },
    "id": "2JgmRG7ZJL6W",
    "outputId": "5fcbfb53-e9f1-4a39-c143-4a1491990e77"
   },
   "outputs": [
    {
     "data": {
      "text/html": [
       "<div>\n",
       "<style scoped>\n",
       "    .dataframe tbody tr th:only-of-type {\n",
       "        vertical-align: middle;\n",
       "    }\n",
       "\n",
       "    .dataframe tbody tr th {\n",
       "        vertical-align: top;\n",
       "    }\n",
       "\n",
       "    .dataframe thead th {\n",
       "        text-align: right;\n",
       "    }\n",
       "</style>\n",
       "<table border=\"1\" class=\"dataframe\">\n",
       "  <thead>\n",
       "    <tr style=\"text-align: right;\">\n",
       "      <th></th>\n",
       "      <th>text</th>\n",
       "      <th>text_CLEAN</th>\n",
       "    </tr>\n",
       "  </thead>\n",
       "  <tbody>\n",
       "    <tr>\n",
       "      <th>536</th>\n",
       "      <td>Add Familia to the arson squad.</td>\n",
       "      <td>add familia to the arson squad</td>\n",
       "    </tr>\n",
       "    <tr>\n",
       "      <th>416</th>\n",
       "      <td>Baby elephant dies just days after surviving m...</td>\n",
       "      <td>baby elephant dies just days after surviving m...</td>\n",
       "    </tr>\n",
       "    <tr>\n",
       "      <th>419</th>\n",
       "      <td>@UrufuSanRagu a Mudslide?</td>\n",
       "      <td>a mudslide</td>\n",
       "    </tr>\n",
       "    <tr>\n",
       "      <th>421</th>\n",
       "      <td>Arson suspect linked to 30 fires caught in Nor...</td>\n",
       "      <td>arson suspect linked to fires caught in northe...</td>\n",
       "    </tr>\n",
       "    <tr>\n",
       "      <th>189</th>\n",
       "      <td>#Boulder deputies are waiting for the bomb squ...</td>\n",
       "      <td>deputies are waiting for the bomb squad to det...</td>\n",
       "    </tr>\n",
       "    <tr>\n",
       "      <th>617</th>\n",
       "      <td>@StrickSkin @NicksComics Lol usually but I'm b...</td>\n",
       "      <td>lol usually but i m being objective here maybe...</td>\n",
       "    </tr>\n",
       "    <tr>\n",
       "      <th>402</th>\n",
       "      <td>Landslide in Italian Alps kills three - ROME (...</td>\n",
       "      <td>landslide in italian alps kills three rome reu...</td>\n",
       "    </tr>\n",
       "    <tr>\n",
       "      <th>506</th>\n",
       "      <td>@Shayoly yes I love it</td>\n",
       "      <td>yes i love it</td>\n",
       "    </tr>\n",
       "    <tr>\n",
       "      <th>53</th>\n",
       "      <td>Review: Dude Bro Party Massacre III http://t.c...</td>\n",
       "      <td>review dude bro party massacre iii by patrick ...</td>\n",
       "    </tr>\n",
       "    <tr>\n",
       "      <th>121</th>\n",
       "      <td>@DyannBridges @yeshayad Check out this #rockin...</td>\n",
       "      <td>check out this preview of danger zone coming soon</td>\n",
       "    </tr>\n",
       "  </tbody>\n",
       "</table>\n",
       "</div>"
      ],
      "text/plain": [
       "                                                  text  \\\n",
       "536                    Add Familia to the arson squad.   \n",
       "416  Baby elephant dies just days after surviving m...   \n",
       "419                          @UrufuSanRagu a Mudslide?   \n",
       "421  Arson suspect linked to 30 fires caught in Nor...   \n",
       "189  #Boulder deputies are waiting for the bomb squ...   \n",
       "617  @StrickSkin @NicksComics Lol usually but I'm b...   \n",
       "402  Landslide in Italian Alps kills three - ROME (...   \n",
       "506                             @Shayoly yes I love it   \n",
       "53   Review: Dude Bro Party Massacre III http://t.c...   \n",
       "121  @DyannBridges @yeshayad Check out this #rockin...   \n",
       "\n",
       "                                            text_CLEAN  \n",
       "536                     add familia to the arson squad  \n",
       "416  baby elephant dies just days after surviving m...  \n",
       "419                                         a mudslide  \n",
       "421  arson suspect linked to fires caught in northe...  \n",
       "189  deputies are waiting for the bomb squad to det...  \n",
       "617  lol usually but i m being objective here maybe...  \n",
       "402  landslide in italian alps kills three rome reu...  \n",
       "506                                      yes i love it  \n",
       "53   review dude bro party massacre iii by patrick ...  \n",
       "121  check out this preview of danger zone coming soon  "
      ]
     },
     "execution_count": 26,
     "metadata": {},
     "output_type": "execute_result"
    }
   ],
   "source": [
    "train['text_CLEAN'] = train['text'].apply(lambda x: preprocessing(x))\n",
    "test['text_CLEAN'] = test['text'].apply(lambda x: preprocessing(x))\n",
    "train[['text','text_CLEAN']].sample(10)"
   ]
  },
  {
   "cell_type": "markdown",
   "metadata": {
    "id": "gn1_MB6I9H0j"
   },
   "source": [
    "## Lemmatisation / Stemmisation"
   ]
  },
  {
   "cell_type": "code",
   "execution_count": 27,
   "metadata": {
    "id": "lagQ9bs_HzTX"
   },
   "outputs": [],
   "source": [
    "# !pip install nltk\n",
    "import nltk\n",
    "# nltk.download('all')"
   ]
  },
  {
   "cell_type": "code",
   "execution_count": 28,
   "metadata": {
    "id": "B4K_0D0XIOsv"
   },
   "outputs": [],
   "source": [
    "# !pip install -U spacy\n",
    "# !pip install -U spacy-lookups-data\n",
    "# !python -m spacy download en_core_web_sm"
   ]
  },
  {
   "cell_type": "code",
   "execution_count": 29,
   "metadata": {
    "colab": {
     "base_uri": "https://localhost:8080/",
     "height": 243
    },
    "id": "79ApHV2VQfYl",
    "outputId": "4d934cfc-67cc-4ce9-9735-72cbd1336df0"
   },
   "outputs": [
    {
     "name": "stderr",
     "output_type": "stream",
     "text": [
      "100%|█████████████████████████████████████████████████████████████████████████████| 1000/1000 [00:06<00:00, 143.75it/s]\n",
      "100%|███████████████████████████████████████████████████████████████████████████████| 200/200 [00:01<00:00, 100.17it/s]\n"
     ]
    },
    {
     "data": {
      "text/html": [
       "<div>\n",
       "<style scoped>\n",
       "    .dataframe tbody tr th:only-of-type {\n",
       "        vertical-align: middle;\n",
       "    }\n",
       "\n",
       "    .dataframe tbody tr th {\n",
       "        vertical-align: top;\n",
       "    }\n",
       "\n",
       "    .dataframe thead th {\n",
       "        text-align: right;\n",
       "    }\n",
       "</style>\n",
       "<table border=\"1\" class=\"dataframe\">\n",
       "  <thead>\n",
       "    <tr style=\"text-align: right;\">\n",
       "      <th></th>\n",
       "      <th>text_CLEAN</th>\n",
       "      <th>text_CLEAN_LMT</th>\n",
       "    </tr>\n",
       "  </thead>\n",
       "  <tbody>\n",
       "    <tr>\n",
       "      <th>0</th>\n",
       "      <td>i slammed my phone to the ground and then scre...</td>\n",
       "      <td>I slam my phone to the ground and then scream ...</td>\n",
       "    </tr>\n",
       "    <tr>\n",
       "      <th>1</th>\n",
       "      <td>the girl that i wanna save is like a danger to...</td>\n",
       "      <td>the girl that I wanna save be like a danger to...</td>\n",
       "    </tr>\n",
       "    <tr>\n",
       "      <th>2</th>\n",
       "      <td>its only getting colder and colder and faster ...</td>\n",
       "      <td>its only get cold and cold and fast and fast a...</td>\n",
       "    </tr>\n",
       "    <tr>\n",
       "      <th>3</th>\n",
       "      <td>who said this yosemite sam or drumpf ûïnobody...</td>\n",
       "      <td>who say this yosemite sam or drumpf ûïnobody ...</td>\n",
       "    </tr>\n",
       "    <tr>\n",
       "      <th>4</th>\n",
       "      <td>it was an accident</td>\n",
       "      <td>it be an accident</td>\n",
       "    </tr>\n",
       "  </tbody>\n",
       "</table>\n",
       "</div>"
      ],
      "text/plain": [
       "                                          text_CLEAN  \\\n",
       "0  i slammed my phone to the ground and then scre...   \n",
       "1  the girl that i wanna save is like a danger to...   \n",
       "2  its only getting colder and colder and faster ...   \n",
       "3  who said this yosemite sam or drumpf ûïnobody...   \n",
       "4                                 it was an accident   \n",
       "\n",
       "                                      text_CLEAN_LMT  \n",
       "0  I slam my phone to the ground and then scream ...  \n",
       "1  the girl that I wanna save be like a danger to...  \n",
       "2  its only get cold and cold and fast and fast a...  \n",
       "3  who say this yosemite sam or drumpf ûïnobody ...  \n",
       "4                                  it be an accident  "
      ]
     },
     "execution_count": 29,
     "metadata": {},
     "output_type": "execute_result"
    }
   ],
   "source": [
    "import tqdm\n",
    "def Lemmatization(train,texts):\n",
    "    pbar = tqdm.tqdm(total=train.shape[0])\n",
    "    nlp = spacy.load(\"en_core_web_sm\", disable=[\"parser\", \"ner\"])\n",
    "    texts_out = []\n",
    "    for text in texts:\n",
    "        doc = nlp(text)\n",
    "        new_text = []\n",
    "        for token in doc: \n",
    "            new_text.append(token.lemma_)\n",
    "        final = \" \".join(new_text)\n",
    "        texts_out.append(final)\n",
    "        pbar.update(1) # actualise la progress bar\n",
    "    return (texts_out)\n",
    "    pbar.close()\n",
    "\n",
    "train['text_CLEAN_LMT'] = Lemmatization(train,train['text_CLEAN'])\n",
    "test['text_CLEAN_LMT'] = Lemmatization(test,test['text_CLEAN'])\n",
    "train[['text_CLEAN','text_CLEAN_LMT']].head()"
   ]
  },
  {
   "cell_type": "code",
   "execution_count": 30,
   "metadata": {
    "colab": {
     "base_uri": "https://localhost:8080/",
     "height": 206
    },
    "id": "fRd3Mo7VIHL4",
    "outputId": "3309fea6-4993-4964-c79f-7a66f9f9770d"
   },
   "outputs": [
    {
     "data": {
      "text/html": [
       "<div>\n",
       "<style scoped>\n",
       "    .dataframe tbody tr th:only-of-type {\n",
       "        vertical-align: middle;\n",
       "    }\n",
       "\n",
       "    .dataframe tbody tr th {\n",
       "        vertical-align: top;\n",
       "    }\n",
       "\n",
       "    .dataframe thead th {\n",
       "        text-align: right;\n",
       "    }\n",
       "</style>\n",
       "<table border=\"1\" class=\"dataframe\">\n",
       "  <thead>\n",
       "    <tr style=\"text-align: right;\">\n",
       "      <th></th>\n",
       "      <th>text_CLEAN_LMT</th>\n",
       "      <th>text_CLEAN_LMT_TOKEN</th>\n",
       "    </tr>\n",
       "  </thead>\n",
       "  <tbody>\n",
       "    <tr>\n",
       "      <th>0</th>\n",
       "      <td>I slam my phone to the ground and then scream ...</td>\n",
       "      <td>[I, slam, my, phone, to, the, ground, and, the...</td>\n",
       "    </tr>\n",
       "    <tr>\n",
       "      <th>1</th>\n",
       "      <td>the girl that I wanna save be like a danger to...</td>\n",
       "      <td>[the, girl, that, I, wanna, save, be, like, a,...</td>\n",
       "    </tr>\n",
       "    <tr>\n",
       "      <th>2</th>\n",
       "      <td>its only get cold and cold and fast and fast a...</td>\n",
       "      <td>[its, only, get, cold, and, cold, and, fast, a...</td>\n",
       "    </tr>\n",
       "    <tr>\n",
       "      <th>3</th>\n",
       "      <td>who say this yosemite sam or drumpf ûïnobody ...</td>\n",
       "      <td>[who, say, this, yosemite, sam, or, drumpf, û...</td>\n",
       "    </tr>\n",
       "    <tr>\n",
       "      <th>4</th>\n",
       "      <td>it be an accident</td>\n",
       "      <td>[it, be, an, accident]</td>\n",
       "    </tr>\n",
       "  </tbody>\n",
       "</table>\n",
       "</div>"
      ],
      "text/plain": [
       "                                      text_CLEAN_LMT  \\\n",
       "0  I slam my phone to the ground and then scream ...   \n",
       "1  the girl that I wanna save be like a danger to...   \n",
       "2  its only get cold and cold and fast and fast a...   \n",
       "3  who say this yosemite sam or drumpf ûïnobody ...   \n",
       "4                                  it be an accident   \n",
       "\n",
       "                                text_CLEAN_LMT_TOKEN  \n",
       "0  [I, slam, my, phone, to, the, ground, and, the...  \n",
       "1  [the, girl, that, I, wanna, save, be, like, a,...  \n",
       "2  [its, only, get, cold, and, cold, and, fast, a...  \n",
       "3  [who, say, this, yosemite, sam, or, drumpf, û...  \n",
       "4                             [it, be, an, accident]  "
      ]
     },
     "execution_count": 30,
     "metadata": {},
     "output_type": "execute_result"
    }
   ],
   "source": [
    "# Pour cette partie du traitement, les tweets doivent être décomposés en mots\n",
    "def tokenize(text):\n",
    "    text_split = [word for word in text.split()]\n",
    "    return text_split\n",
    "\n",
    "train['text_CLEAN_LMT_TOKEN'] = train['text_CLEAN_LMT'].apply(lambda x: tokenize(x))\n",
    "test['text_CLEAN_LMT_TOKEN'] = test['text_CLEAN_LMT'].apply(lambda x: tokenize(x))\n",
    "train[['text_CLEAN_LMT','text_CLEAN_LMT_TOKEN']].head()"
   ]
  },
  {
   "cell_type": "markdown",
   "metadata": {
    "id": "1M5o5sz7TrOB"
   },
   "source": []
  },
  {
   "cell_type": "markdown",
   "metadata": {
    "id": "eFG5x__yHzhw"
   },
   "source": [
    "## Retrait des stopwords"
   ]
  },
  {
   "cell_type": "code",
   "execution_count": 31,
   "metadata": {
    "id": "A_DFkWY-8Pga"
   },
   "outputs": [],
   "source": [
    "nlp = spacy.load('en_core_web_sm')\n",
    "stopwords = spacy.lang.en.stop_words.STOP_WORDS\n",
    "\n",
    "stopwords = [word.lower() for word in stopwords]\n",
    "\n",
    "# conservation de certains stopwords\n",
    "liste = [\n",
    "    # mots à conserver (à exclure de la liste des stopwords par défaut)\n",
    "]\n",
    "\n",
    "stopwords = [word for word in stopwords if word not in liste]"
   ]
  },
  {
   "cell_type": "code",
   "execution_count": 32,
   "metadata": {
    "colab": {
     "base_uri": "https://localhost:8080/",
     "height": 206
    },
    "id": "tssBjYmDH0VY",
    "outputId": "36bbf412-018c-4fd6-b670-4a6b4c3ca051"
   },
   "outputs": [
    {
     "data": {
      "text/html": [
       "<div>\n",
       "<style scoped>\n",
       "    .dataframe tbody tr th:only-of-type {\n",
       "        vertical-align: middle;\n",
       "    }\n",
       "\n",
       "    .dataframe tbody tr th {\n",
       "        vertical-align: top;\n",
       "    }\n",
       "\n",
       "    .dataframe thead th {\n",
       "        text-align: right;\n",
       "    }\n",
       "</style>\n",
       "<table border=\"1\" class=\"dataframe\">\n",
       "  <thead>\n",
       "    <tr style=\"text-align: right;\">\n",
       "      <th></th>\n",
       "      <th>text_CLEAN_LMT_TOKEN</th>\n",
       "      <th>text_CLEAN_LMT_TOKEN_WSW</th>\n",
       "    </tr>\n",
       "  </thead>\n",
       "  <tbody>\n",
       "    <tr>\n",
       "      <th>0</th>\n",
       "      <td>[I, slam, my, phone, to, the, ground, and, the...</td>\n",
       "      <td>[slam, phone, ground, scream, ahahahga]</td>\n",
       "    </tr>\n",
       "    <tr>\n",
       "      <th>1</th>\n",
       "      <td>[the, girl, that, I, wanna, save, be, like, a,...</td>\n",
       "      <td>[girl, wanna, save, like, danger, health, try,...</td>\n",
       "    </tr>\n",
       "    <tr>\n",
       "      <th>2</th>\n",
       "      <td>[its, only, get, cold, and, cold, and, fast, a...</td>\n",
       "      <td>[cold, cold, fast, fast, realize, like, natura...</td>\n",
       "    </tr>\n",
       "    <tr>\n",
       "      <th>3</th>\n",
       "      <td>[who, say, this, yosemite, sam, or, drumpf, û...</td>\n",
       "      <td>[yosemite, sam, drumpf, ûïnobody, û÷ill, vot...</td>\n",
       "    </tr>\n",
       "    <tr>\n",
       "      <th>4</th>\n",
       "      <td>[it, be, an, accident]</td>\n",
       "      <td>[accident]</td>\n",
       "    </tr>\n",
       "  </tbody>\n",
       "</table>\n",
       "</div>"
      ],
      "text/plain": [
       "                                text_CLEAN_LMT_TOKEN  \\\n",
       "0  [I, slam, my, phone, to, the, ground, and, the...   \n",
       "1  [the, girl, that, I, wanna, save, be, like, a,...   \n",
       "2  [its, only, get, cold, and, cold, and, fast, a...   \n",
       "3  [who, say, this, yosemite, sam, or, drumpf, û...   \n",
       "4                             [it, be, an, accident]   \n",
       "\n",
       "                            text_CLEAN_LMT_TOKEN_WSW  \n",
       "0            [slam, phone, ground, scream, ahahahga]  \n",
       "1  [girl, wanna, save, like, danger, health, try,...  \n",
       "2  [cold, cold, fast, fast, realize, like, natura...  \n",
       "3  [yosemite, sam, drumpf, ûïnobody, û÷ill, vot...  \n",
       "4                                         [accident]  "
      ]
     },
     "execution_count": 32,
     "metadata": {},
     "output_type": "execute_result"
    }
   ],
   "source": [
    "def remove_stopwords(text):\n",
    "    text = [word for word in text if (len(word) > 2) and (word not in stopwords)]\n",
    "    return text\n",
    "\n",
    "train['text_CLEAN_LMT_TOKEN_WSW'] = train['text_CLEAN_LMT_TOKEN'].apply(lambda x: remove_stopwords(x))\n",
    "test['text_CLEAN_LMT_TOKEN_WSW'] = test['text_CLEAN_LMT_TOKEN'].apply(lambda x: remove_stopwords(x))\n",
    "train[['text_CLEAN_LMT_TOKEN','text_CLEAN_LMT_TOKEN_WSW']].head()"
   ]
  },
  {
   "cell_type": "markdown",
   "metadata": {
    "id": "-1ol7LQ06Zu6"
   },
   "source": [
    "## Bigrammes - Trigrammes\n",
    "\n",
    "S'effectue sur donneés tokenizées\n",
    "\n",
    "Astuce : la construction des bigrammes peut s'effectuer en ignorant les stopwords grâce au paramètre \"connector_words\". Du coup on précise d'abord la liste des stopwords afin que ces stopwords ne se retrouvent pas dans des bigrammes."
   ]
  },
  {
   "cell_type": "code",
   "execution_count": 33,
   "metadata": {
    "colab": {
     "base_uri": "https://localhost:8080/"
    },
    "id": "puopeiC46aWG",
    "outputId": "5b984b53-c520-4a72-9616-b704d029bc4b"
   },
   "outputs": [
    {
     "data": {
      "text/plain": [
       "0                                 [like, fire, selfie]\n",
       "1    [love, burn, self, damn, curling, wand, swear,...\n",
       "2    [south, fiji, island, user, download, earthqua...\n",
       "3    [electric, debut, severino, disaster, look, fo...\n",
       "4    [month, old, baby, girl, rescue, coastguard, f...\n",
       "Name: text_CLEAN_LMT_TOKEN_WSW_BIGRAMS, dtype: object"
      ]
     },
     "execution_count": 33,
     "metadata": {},
     "output_type": "execute_result"
    }
   ],
   "source": [
    "import gensim\n",
    "\n",
    "### TRAIN\n",
    "\n",
    "data_words_train = train['text_CLEAN_LMT_TOKEN_WSW'].values.tolist()\n",
    "data_words_train\n",
    "\n",
    "# Modèles Bigrammes/Trigrammes\n",
    "bigram = gensim.models.Phrases(data_words_train, min_count=5, threshold=0,\n",
    "                              #  connector_words=stopwords,\n",
    "                               scoring = 'npmi')\n",
    "trigram = gensim.models.Phrases(bigram[data_words_train], threshold=0,\n",
    "                              #  connector_words=stopwords,\n",
    "                                scoring = 'npmi')\n",
    "\n",
    "bigram_mod = gensim.models.phrases.Phraser(bigram)\n",
    "trigram_mod = gensim.models.phrases.Phraser(trigram)\n",
    "\n",
    "# Fonctions retournant les bigrammes/trigrammes\n",
    "def make_bigrams(texts):\n",
    "    return [bigram_mod[doc] for doc in texts]\n",
    "def make_trigrams(texts):\n",
    "    return [trigram_mod[bigram_mod[doc]] for doc in texts]\n",
    "\n",
    "# Crée les bigrammes\n",
    "data_words_train_bigrams = make_bigrams(data_words_train)\n",
    "train['text_CLEAN_LMT_TOKEN_WSW_BIGRAMS'] = data_words_train_bigrams\n",
    "train['text_CLEAN_LMT_TOKEN_WSW_BIGRAMS'][:5]\n",
    "\n",
    "\n",
    "### TEST\n",
    "\n",
    "data_words_test = test['text_CLEAN_LMT_TOKEN_WSW'].values.tolist()\n",
    "data_words_test\n",
    "\n",
    "# Modèles Bigrammes/Trigrammes\n",
    "bigram = gensim.models.Phrases(data_words_test, min_count=5, threshold=0,\n",
    "                              #  connector_words=stopwords,\n",
    "                               scoring = 'npmi')\n",
    "trigram = gensim.models.Phrases(bigram[data_words_test], threshold=0,\n",
    "                              #  connector_words=stopwords,\n",
    "                                scoring = 'npmi')\n",
    "\n",
    "bigram_mod = gensim.models.phrases.Phraser(bigram)\n",
    "trigram_mod = gensim.models.phrases.Phraser(trigram)\n",
    "\n",
    "# Crée les bigrammes\n",
    "data_words_test_bigrams = make_bigrams(data_words_test)\n",
    "test['text_CLEAN_LMT_TOKEN_WSW_BIGRAMS'] = data_words_test_bigrams\n",
    "test['text_CLEAN_LMT_TOKEN_WSW_BIGRAMS'][:5]"
   ]
  },
  {
   "cell_type": "markdown",
   "metadata": {
    "id": "RsfE9Rb1N7Ll"
   },
   "source": [
    "## Detokenization"
   ]
  },
  {
   "cell_type": "code",
   "execution_count": 34,
   "metadata": {
    "colab": {
     "base_uri": "https://localhost:8080/",
     "height": 206
    },
    "id": "NJPopCmRN7sa",
    "outputId": "cd9853dc-62e5-444c-ead8-fc01954f1b2b"
   },
   "outputs": [
    {
     "data": {
      "text/html": [
       "<div>\n",
       "<style scoped>\n",
       "    .dataframe tbody tr th:only-of-type {\n",
       "        vertical-align: middle;\n",
       "    }\n",
       "\n",
       "    .dataframe tbody tr th {\n",
       "        vertical-align: top;\n",
       "    }\n",
       "\n",
       "    .dataframe thead th {\n",
       "        text-align: right;\n",
       "    }\n",
       "</style>\n",
       "<table border=\"1\" class=\"dataframe\">\n",
       "  <thead>\n",
       "    <tr style=\"text-align: right;\">\n",
       "      <th></th>\n",
       "      <th>text_CLEAN_LMT_TOKEN_WSW_BIGRAMS</th>\n",
       "      <th>text_CLEAN_LMT_WSW_BIGRAMS</th>\n",
       "    </tr>\n",
       "  </thead>\n",
       "  <tbody>\n",
       "    <tr>\n",
       "      <th>0</th>\n",
       "      <td>[slam, phone, ground, scream, ahahahga]</td>\n",
       "      <td>slam phone ground scream ahahahga</td>\n",
       "    </tr>\n",
       "    <tr>\n",
       "      <th>1</th>\n",
       "      <td>[girl, wanna, save, like, danger, health, try,...</td>\n",
       "      <td>girl wanna save like danger health try somebod...</td>\n",
       "    </tr>\n",
       "    <tr>\n",
       "      <th>2</th>\n",
       "      <td>[cold, cold, fast, fast, realize, like, natura...</td>\n",
       "      <td>cold cold fast fast realize like natural_disaster</td>\n",
       "    </tr>\n",
       "    <tr>\n",
       "      <th>3</th>\n",
       "      <td>[yosemite, sam, drumpf, ûïnobody, û÷ill, vot...</td>\n",
       "      <td>yosemite sam drumpf ûïnobody û÷ill vote flat...</td>\n",
       "    </tr>\n",
       "    <tr>\n",
       "      <th>4</th>\n",
       "      <td>[accident]</td>\n",
       "      <td>accident</td>\n",
       "    </tr>\n",
       "  </tbody>\n",
       "</table>\n",
       "</div>"
      ],
      "text/plain": [
       "                    text_CLEAN_LMT_TOKEN_WSW_BIGRAMS  \\\n",
       "0            [slam, phone, ground, scream, ahahahga]   \n",
       "1  [girl, wanna, save, like, danger, health, try,...   \n",
       "2  [cold, cold, fast, fast, realize, like, natura...   \n",
       "3  [yosemite, sam, drumpf, ûïnobody, û÷ill, vot...   \n",
       "4                                         [accident]   \n",
       "\n",
       "                          text_CLEAN_LMT_WSW_BIGRAMS  \n",
       "0                  slam phone ground scream ahahahga  \n",
       "1  girl wanna save like danger health try somebod...  \n",
       "2  cold cold fast fast realize like natural_disaster  \n",
       "3  yosemite sam drumpf ûïnobody û÷ill vote flat...  \n",
       "4                                           accident  "
      ]
     },
     "execution_count": 34,
     "metadata": {},
     "output_type": "execute_result"
    }
   ],
   "source": [
    "def detokenize_text(txt):\n",
    "    txt = ' '.join([word for word in txt])\n",
    "    return txt\n",
    "\n",
    "train['text_CLEAN_LMT_WSW_BIGRAMS'] = train['text_CLEAN_LMT_TOKEN_WSW_BIGRAMS'].apply(lambda x: detokenize_text(x))\n",
    "test['text_CLEAN_LMT_WSW_BIGRAMS'] = test['text_CLEAN_LMT_TOKEN_WSW_BIGRAMS'].apply(lambda x: detokenize_text(x))\n",
    "train[['text_CLEAN_LMT_TOKEN_WSW_BIGRAMS','text_CLEAN_LMT_WSW_BIGRAMS']].head()"
   ]
  },
  {
   "cell_type": "markdown",
   "metadata": {
    "id": "YqMoK7ywH0n4"
   },
   "source": [
    "# Modélisation"
   ]
  },
  {
   "cell_type": "markdown",
   "metadata": {
    "id": "BSKH7Z6A81_L"
   },
   "source": [
    "## Feature engineering\n",
    "\n",
    "Ici la sélection de variable consiste à conserver ou non certains mots.\n",
    "\n",
    "On peut supprimer les mots dont l'occurence est si rare que leur conservation serait source d'overfitting.\n",
    "\n",
    "Pour choisir ces mots, on peut utiliser le TF_Itrain, une grandeur qui pondère la fréquence d'un mot au sein d'un texte par rapport à sa fréquence dans un ensemble de texte.\n",
    "\n",
    "En résumé, un mot fréquent dans un texte mais qui l'est également dans tous les textes sera pénalisé, alors qu'un mot fréquent uniquement dans un texte sera favorisé. Cela permet de mettre en avant les mots qui aident à distinguer les textes entre eux, et donc contribuent à une meilleure classification."
   ]
  },
  {
   "cell_type": "code",
   "execution_count": 35,
   "metadata": {
    "colab": {
     "base_uri": "https://localhost:8080/"
    },
    "id": "Z1on4Hs580mX",
    "outputId": "353e93fa-30ef-4202-c7da-b659f9180156"
   },
   "outputs": [
    {
     "name": "stdout",
     "output_type": "stream",
     "text": [
      "total de feature = 3168\n",
      "3        abcnews\n",
      "28         admin\n",
      "36      affected\n",
      "40       afghetc\n",
      "58          akwa\n",
      "          ...   \n",
      "3119         wtc\n",
      "3136    yosemite\n",
      "3156     ûïafter\n",
      "3159    ûïnobody\n",
      "3161      ûïthat\n",
      "Name: word, Length: 314, dtype: object\n"
     ]
    }
   ],
   "source": [
    "# Vectorization\n",
    "from sklearn.feature_extraction.text import TfidfVectorizer\n",
    "\n",
    "# Création d'une table dont les colonnes sont les mots et les données sont les valeurs TF-Itrain\n",
    "vectorizer = TfidfVectorizer()\n",
    "vectors = vectorizer.fit_transform(train['text_CLEAN_LMT_WSW_BIGRAMS'].astype('U'))\n",
    "feature_names = vectorizer.get_feature_names_out()\n",
    "dense = vectors.todense()\n",
    "\n",
    "train_Tfidf = pd.DataFrame(dense, columns=feature_names)\n",
    "\n",
    "# Détection des mots dont la valeur TF-Itrain est peu signifiante au sein du corpus\n",
    "\n",
    "## Dataframe contenant chaque mot et leur TF-Itrain moyen\n",
    "mean_Tfidf = []\n",
    "for feature in train_Tfidf.columns.values:\n",
    "    mean_Tfidf.append(np.mean(train_Tfidf[feature]))\n",
    "    \n",
    "train_mean_Tfidf = pd.DataFrame({'word': train_Tfidf.columns.values,'mean_Tfidf': mean_Tfidf})\n",
    "\n",
    "## Liste contenant les mots dont le TF-Itrain moyen est inférieur à un seuil prédéfini\n",
    "threshold = np.percentile(train_mean_Tfidf['mean_Tfidf'],10) # on retire les X % plus bas en terme de TF-Itrain\n",
    "features_to_delete = train_mean_Tfidf['word'].loc[train_mean_Tfidf['mean_Tfidf'] < threshold]\n",
    "\n",
    "## Suppression de ces mots des texts. On met à jour la liste des stopwords avec les mots rares que l'on souhaite exclure.\n",
    "for feature in features_to_delete:\n",
    "    stopwords.extend(feature)\n",
    "\n",
    "# On tokenize, on supprime les stopwords, et on détokenize\n",
    "train['text_CLEAN_LMT_WSW_BIGRAMS_FILTERED'] = [text.split() for text in train['text_CLEAN_LMT_WSW_BIGRAMS'].astype(str)]  # le as.type(str) convertit en texte car apres nettoyage, certains tweets ne contiennent parfois plus que des numéros \n",
    "train['text_CLEAN_LMT_WSW_BIGRAMS_FILTERED'] = train['text_CLEAN_LMT_WSW_BIGRAMS_FILTERED'].apply(remove_stopwords)\n",
    "train['text_CLEAN_LMT_WSW_BIGRAMS_FILTERED'] = train['text_CLEAN_LMT_WSW_BIGRAMS_FILTERED'].apply(lambda x: detokenize_text(x))\n",
    "\n",
    "# Affichage du nombre de features final\n",
    "print('total de feature =', train_Tfidf.shape[1])\n",
    "print(features_to_delete)\n",
    "\n",
    "# Création d'un dataframe contenant les mots en tant que features TF-IDF\n",
    "train_word_features = vectorizer.fit_transform(train['text_CLEAN_LMT_WSW_BIGRAMS_FILTERED'])\n",
    "feature_names = vectorizer.get_feature_names_out()\n",
    "dense = train_word_features.todense()\n",
    "train_word_features = pd.DataFrame(dense, columns=feature_names)\n",
    "\n",
    "##################################################################################################\n",
    "\n",
    "# LE NOMBRE DE FEATURE DONNE UNE IDEE DE LA COMPLEXITE DU MODELE\n",
    "# IL FAUT LE REDUIRE AU STRICT NECESSAIRE POUR GARANTIR UN BON POUVOIR DE GENERALISATION\n",
    "\n",
    "##################################################################################################"
   ]
  },
  {
   "cell_type": "markdown",
   "metadata": {
    "id": "srYfLhVlIbbf"
   },
   "source": [
    "##GridSearch"
   ]
  },
  {
   "cell_type": "code",
   "execution_count": 36,
   "metadata": {
    "colab": {
     "base_uri": "https://localhost:8080/"
    },
    "id": "ZWxXPPWhIfOP",
    "outputId": "95740d5d-2b30-403c-8195-1f24af4f68ed"
   },
   "outputs": [
    {
     "name": "stdout",
     "output_type": "stream",
     "text": [
      "Fitting 5 folds for each of 3 candidates, totalling 15 fits\n",
      "[CV] END classifier=SVC(probability=True, random_state=0), classifier__C=1; total time=   1.2s\n",
      "[CV] END classifier=SVC(probability=True, random_state=0), classifier__C=1; total time=   1.1s\n",
      "[CV] END classifier=SVC(probability=True, random_state=0), classifier__C=1; total time=   1.2s\n",
      "[CV] END classifier=SVC(probability=True, random_state=0), classifier__C=1; total time=   1.2s\n",
      "[CV] END classifier=SVC(probability=True, random_state=0), classifier__C=1; total time=   1.5s\n",
      "[CV] END classifier=SVC(probability=True, random_state=0), classifier__C=10; total time=   1.5s\n",
      "[CV] END classifier=SVC(probability=True, random_state=0), classifier__C=10; total time=   1.3s\n",
      "[CV] END classifier=SVC(probability=True, random_state=0), classifier__C=10; total time=   1.4s\n",
      "[CV] END classifier=SVC(probability=True, random_state=0), classifier__C=10; total time=   1.4s\n",
      "[CV] END classifier=SVC(probability=True, random_state=0), classifier__C=10; total time=   1.1s\n",
      "[CV] END classifier=SVC(probability=True, random_state=0), classifier__C=100; total time=   1.4s\n",
      "[CV] END classifier=SVC(probability=True, random_state=0), classifier__C=100; total time=   1.2s\n",
      "[CV] END classifier=SVC(probability=True, random_state=0), classifier__C=100; total time=   1.5s\n",
      "[CV] END classifier=SVC(probability=True, random_state=0), classifier__C=100; total time=   1.4s\n",
      "[CV] END classifier=SVC(probability=True, random_state=0), classifier__C=100; total time=   1.2s\n"
     ]
    },
    {
     "data": {
      "text/plain": [
       "GridSearchCV(cv=5,\n",
       "             estimator=Pipeline(steps=[('TdIdf', TfidfTransformer()),\n",
       "                                       ('scaler',\n",
       "                                        StandardScaler(with_mean=False)),\n",
       "                                       ('classifier',\n",
       "                                        LogisticRegression(random_state=0))]),\n",
       "             param_grid=[{'classifier': [SVC(C=10, probability=True,\n",
       "                                             random_state=0)],\n",
       "                          'classifier__C': [1, 10, 100]}],\n",
       "             verbose=2)"
      ]
     },
     "execution_count": 36,
     "metadata": {},
     "output_type": "execute_result"
    }
   ],
   "source": [
    "from sklearn.linear_model import LogisticRegression\n",
    "from sklearn.svm import SVC\n",
    "from sklearn.ensemble import AdaBoostClassifier\n",
    "from sklearn.ensemble import GradientBoostingClassifier\n",
    "from sklearn.ensemble import RandomForestClassifier\n",
    "from sklearn.neural_network import MLPClassifier \n",
    "\n",
    "from sklearn.model_selection import GridSearchCV\n",
    "\n",
    "X_train = pd.concat([train_word_features, train[['hashtags_b','names_b','rt_path_b','locations_b']]], axis='columns')\n",
    "\n",
    "y_train = train['target']\n",
    "\n",
    "\n",
    "#clf = RandomForestClassifier(n_estimators=5000, random_state=0)\n",
    "pipe = Pipeline([\n",
    "    (\"TdIdf\",TfidfTransformer()),\n",
    "    (\"scaler\", StandardScaler(with_mean=False)), # mean = True ne fonctionne pas avec une sparse matrix (TD-IDF)\n",
    "\n",
    "    # Modèle testé en premier (n'importe lequel)\n",
    "    (\"classifier\", LogisticRegression(random_state=0))\n",
    "    #(\"clf\",clf)\n",
    "    \n",
    "])\n",
    "\n",
    "param_grid = [\n",
    "    # Régression Logistique (one vs rest)\n",
    "    #{'classifier': [RandomForestClassifier(random_state=0)],\n",
    "    # 'classifier__C': [1,10,100]},\n",
    "    # {'classifier': [LogisticRegression(random_state=0)],\n",
    "    #  'classifier__C': [1,10,100, 1000, 10000]},\n",
    "\n",
    "    # Support Vector Machine\n",
    "    {'classifier': [SVC(kernel='rbf', random_state=0, probability = True)],\n",
    "     'classifier__C': [1,10,100]},\n",
    "    \n",
    "    # {'classifier': [MLPClassifier(random_state = 0,\n",
    "    #                         max_iter = 10,\n",
    "    #                         alpha = 1,\n",
    "    #                         hidden_layer_sizes=(100,))]},\n",
    "    #  {'classifier': [RandomForestClassifier(n_estimators=100, random_state=0)]},\n",
    "    #  {'classifier': [AdaBoostClassifier(n_estimators=100, random_state=0)]},\n",
    "    #  {'classifier': [GradientBoostingClassifier(n_estimators=100, random_state=0)]},\n",
    "             ]\n",
    "\n",
    "grid = GridSearchCV(pipe, param_grid, verbose = 2, cv = 5) # verbose pour l'affichage du temps de traitement\n",
    "grid.fit(X_train, y_train)"
   ]
  },
  {
   "cell_type": "markdown",
   "metadata": {
    "id": "cGJGyIP-IqSo"
   },
   "source": [
    "## Evaluation"
   ]
  },
  {
   "cell_type": "code",
   "execution_count": 37,
   "metadata": {
    "colab": {
     "base_uri": "https://localhost:8080/"
    },
    "id": "P70wodvNIwDv",
    "outputId": "e4872d87-c611-442e-ff59-6aff32ee3cfa"
   },
   "outputs": [
    {
     "name": "stdout",
     "output_type": "stream",
     "text": [
      "best model :  {'classifier': SVC(C=10, probability=True, random_state=0), 'classifier__C': 10}\n",
      "best cv score :  0.712\n"
     ]
    }
   ],
   "source": [
    "print('best model : ', grid.best_params_)\n",
    "print('best cv score : ', grid.best_score_)"
   ]
  },
  {
   "cell_type": "markdown",
   "metadata": {
    "id": "gmx5JUUA1Xao"
   },
   "source": [
    "## Récupération des prédictions"
   ]
  },
  {
   "cell_type": "code",
   "execution_count": 38,
   "metadata": {
    "colab": {
     "base_uri": "https://localhost:8080/",
     "height": 423
    },
    "id": "KLe4TyL-1WwB",
    "outputId": "a82fde05-62bc-49dd-b550-d5157b64b7e7"
   },
   "outputs": [
    {
     "data": {
      "text/html": [
       "<div>\n",
       "<style scoped>\n",
       "    .dataframe tbody tr th:only-of-type {\n",
       "        vertical-align: middle;\n",
       "    }\n",
       "\n",
       "    .dataframe tbody tr th {\n",
       "        vertical-align: top;\n",
       "    }\n",
       "\n",
       "    .dataframe thead th {\n",
       "        text-align: right;\n",
       "    }\n",
       "</style>\n",
       "<table border=\"1\" class=\"dataframe\">\n",
       "  <thead>\n",
       "    <tr style=\"text-align: right;\">\n",
       "      <th></th>\n",
       "      <th>target_prédite</th>\n",
       "      <th>(0,)</th>\n",
       "      <th>(1,)</th>\n",
       "    </tr>\n",
       "  </thead>\n",
       "  <tbody>\n",
       "    <tr>\n",
       "      <th>0</th>\n",
       "      <td>0</td>\n",
       "      <td>0.938882</td>\n",
       "      <td>0.061118</td>\n",
       "    </tr>\n",
       "    <tr>\n",
       "      <th>1</th>\n",
       "      <td>0</td>\n",
       "      <td>0.829306</td>\n",
       "      <td>0.170694</td>\n",
       "    </tr>\n",
       "    <tr>\n",
       "      <th>2</th>\n",
       "      <td>1</td>\n",
       "      <td>0.171178</td>\n",
       "      <td>0.828822</td>\n",
       "    </tr>\n",
       "    <tr>\n",
       "      <th>3</th>\n",
       "      <td>0</td>\n",
       "      <td>0.745058</td>\n",
       "      <td>0.254942</td>\n",
       "    </tr>\n",
       "    <tr>\n",
       "      <th>4</th>\n",
       "      <td>1</td>\n",
       "      <td>0.313915</td>\n",
       "      <td>0.686085</td>\n",
       "    </tr>\n",
       "    <tr>\n",
       "      <th>...</th>\n",
       "      <td>...</td>\n",
       "      <td>...</td>\n",
       "      <td>...</td>\n",
       "    </tr>\n",
       "    <tr>\n",
       "      <th>195</th>\n",
       "      <td>0</td>\n",
       "      <td>0.949470</td>\n",
       "      <td>0.050530</td>\n",
       "    </tr>\n",
       "    <tr>\n",
       "      <th>196</th>\n",
       "      <td>0</td>\n",
       "      <td>0.575743</td>\n",
       "      <td>0.424257</td>\n",
       "    </tr>\n",
       "    <tr>\n",
       "      <th>197</th>\n",
       "      <td>0</td>\n",
       "      <td>0.954703</td>\n",
       "      <td>0.045297</td>\n",
       "    </tr>\n",
       "    <tr>\n",
       "      <th>198</th>\n",
       "      <td>1</td>\n",
       "      <td>0.336615</td>\n",
       "      <td>0.663385</td>\n",
       "    </tr>\n",
       "    <tr>\n",
       "      <th>199</th>\n",
       "      <td>1</td>\n",
       "      <td>0.024483</td>\n",
       "      <td>0.975517</td>\n",
       "    </tr>\n",
       "  </tbody>\n",
       "</table>\n",
       "<p>200 rows × 3 columns</p>\n",
       "</div>"
      ],
      "text/plain": [
       "     target_prédite      (0,)      (1,)\n",
       "0                 0  0.938882  0.061118\n",
       "1                 0  0.829306  0.170694\n",
       "2                 1  0.171178  0.828822\n",
       "3                 0  0.745058  0.254942\n",
       "4                 1  0.313915  0.686085\n",
       "..              ...       ...       ...\n",
       "195               0  0.949470  0.050530\n",
       "196               0  0.575743  0.424257\n",
       "197               0  0.954703  0.045297\n",
       "198               1  0.336615  0.663385\n",
       "199               1  0.024483  0.975517\n",
       "\n",
       "[200 rows x 3 columns]"
      ]
     },
     "execution_count": 38,
     "metadata": {},
     "output_type": "execute_result"
    }
   ],
   "source": [
    "test_word_features = vectorizer.transform(test['text_CLEAN_LMT_WSW_BIGRAMS'].values.astype(str))\n",
    "feature_names = vectorizer.get_feature_names_out()\n",
    "dense = test_word_features.todense()\n",
    "test_word_features = pd.DataFrame(dense, columns=feature_names)\n",
    "\n",
    "X_test = pd.concat([test_word_features, test[['hashtags_b','names_b','rt_path_b','locations_b']]], axis='columns')\n",
    "\n",
    "test_predictions_tab = pd.DataFrame(grid.predict(X_test)) \\\n",
    "                            .reset_index(drop=True).rename(columns={0 : 'target_prédite'})\n",
    "\n",
    "test_probas_tab = pd.DataFrame(grid.predict_proba(X_test), columns=[grid.classes_])\n",
    "\n",
    "test_results = pd.concat([test_predictions_tab,\n",
    "                          test_probas_tab],\n",
    "                          axis=1).dropna() # probas et prédictions\n",
    "\n",
    "test_results.dropna().to_csv('test_results.csv',sep=';',encoding='utf-16')\n",
    "\n",
    "test_results"
   ]
  }
 ],
 "metadata": {
  "colab": {
   "provenance": []
  },
  "kernelspec": {
   "display_name": "Python 3 (ipykernel)",
   "language": "python",
   "name": "python3"
  },
  "language_info": {
   "codemirror_mode": {
    "name": "ipython",
    "version": 3
   },
   "file_extension": ".py",
   "mimetype": "text/x-python",
   "name": "python",
   "nbconvert_exporter": "python",
   "pygments_lexer": "ipython3",
   "version": "3.9.13"
  }
 },
 "nbformat": 4,
 "nbformat_minor": 1
}
