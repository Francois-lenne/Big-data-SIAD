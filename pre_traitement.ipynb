{
 "cells": [
  {
   "cell_type": "code",
   "execution_count": 1,
   "metadata": {},
   "outputs": [
    {
     "name": "stderr",
     "output_type": "stream",
     "text": [
      "'{sys.executable}' n'est pas reconnu en tant que commande interne\n",
      "ou externe, un programme ex‚cutable ou un fichier de commandes.\n"
     ]
    },
    {
     "name": "stdout",
     "output_type": "stream",
     "text": [
      "Requirement already satisfied: contractions in c:\\users\\yoann\\anaconda3\\lib\\site-packages (0.1.73)\n",
      "Requirement already satisfied: textsearch>=0.0.21 in c:\\users\\yoann\\anaconda3\\lib\\site-packages (from contractions) (0.0.24)\n",
      "Requirement already satisfied: anyascii in c:\\users\\yoann\\anaconda3\\lib\\site-packages (from textsearch>=0.0.21->contractions) (0.3.1)\n",
      "Requirement already satisfied: pyahocorasick in c:\\users\\yoann\\anaconda3\\lib\\site-packages (from textsearch>=0.0.21->contractions) (1.4.4)\n"
     ]
    },
    {
     "name": "stderr",
     "output_type": "stream",
     "text": [
      "[nltk_data] Downloading package punkt to\n",
      "[nltk_data]     C:\\Users\\yoann\\AppData\\Roaming\\nltk_data...\n",
      "[nltk_data]   Package punkt is already up-to-date!\n",
      "[nltk_data] Downloading package stopwords to\n",
      "[nltk_data]     C:\\Users\\yoann\\AppData\\Roaming\\nltk_data...\n",
      "[nltk_data]   Package stopwords is already up-to-date!\n"
     ]
    },
    {
     "name": "stdout",
     "output_type": "stream",
     "text": [
      "Requirement already satisfied: word2number in c:\\users\\yoann\\anaconda3\\lib\\site-packages (1.1)\n",
      "Requirement already satisfied: unidecode in c:\\users\\yoann\\anaconda3\\lib\\site-packages (1.3.6)\n",
      "Requirement already satisfied: textblob in c:\\users\\yoann\\anaconda3\\lib\\site-packages (0.17.1)\n",
      "Requirement already satisfied: nltk>=3.1; python_version >= \"3\" in c:\\users\\yoann\\anaconda3\\lib\\site-packages (from textblob) (3.4.4)\n",
      "Requirement already satisfied: six in c:\\users\\yoann\\anaconda3\\lib\\site-packages (from nltk>=3.1; python_version >= \"3\"->textblob) (1.12.0)\n"
     ]
    }
   ],
   "source": [
    "import string\n",
    "import pandas as pd\n",
    "!{sys.executable} -m pip install nltk\n",
    "import nltk\n",
    "import re\n",
    "import sys  \n",
    "!{sys.executable} -m pip install contractions\n",
    "import contractions\n",
    "nltk.download('punkt')\n",
    "nltk.download('stopwords')\n",
    "from nltk.tokenize import word_tokenize\n",
    "from nltk.corpus import stopwords\n",
    "!{sys.executable} -m pip install word2number\n",
    "from word2number import w2n\n",
    "!{sys.executable} -m pip install unidecode\n",
    "import unidecode\n",
    "from nltk.stem.porter import PorterStemmer\n",
    "!{sys.executable} -m pip install textblob\n",
    "from textblob import Word"
   ]
  },
  {
   "cell_type": "code",
   "execution_count": 2,
   "metadata": {},
   "outputs": [],
   "source": [
    "def dlDdataset(file):\n",
    "    df = pd.read_csv(file, sep='\\t')\n",
    "    print(df.columns)\n",
    "\n",
    "    df_eng = df[df['Definitely English'] == 1]\n",
    "    df_eng = df_eng.head(10)\n",
    "    \n",
    "    print(df_eng['Tweet'])\n",
    "\n",
    "    return df_eng\n",
    "\n",
    "def deleteSpaces(text):\n",
    "    text_without_space = re.sub(' +', ' ', text)\n",
    "    return text_without_space\n",
    "\n",
    "def textToLower(text):\n",
    "    text_lower = text.lower()\n",
    "    return text_lower\n",
    "\n",
    "def transformContraction(text):\n",
    "    text_transform = contractions.fix(text)\n",
    "    return text_transform\n",
    "\n",
    "def deletePunctuation(text):\n",
    "    punctuation_table = str.maketrans('','',string.punctuation)\n",
    "    text_without_punctuation = text.translate(punctuation_table)\n",
    "    return text_without_punctuation\n",
    "\n",
    "def transformUnicode(text):\n",
    "    text_unicode = unidecode.unidecode(text)\n",
    "    return text_unicode\n",
    "\n",
    "def deleteStopwords(list):\n",
    "    stop_words = set(stopwords.words('english'))\n",
    "    filtred = [word for word in list if word not in stop_words]\n",
    "    return filtred\n",
    "\n",
    "def uniformisation(list):\n",
    "    uni_list = []\n",
    "    for mot in list:\n",
    "        stemmer = PorterStemmer()\n",
    "        uni = stemmer.stem(mot)\n",
    "        uni_list.append(uni)\n",
    "    return uni_list\n",
    "\n",
    "def deleteHTTP(list):\n",
    "    regex = '^http*'\n",
    "    list_without_http = []\n",
    "    for mot in list:\n",
    "        check = re.search(regex,mot)\n",
    "        if check is None:\n",
    "            list_without_http.append(mot)\n",
    "    return list_without_http\n",
    "\n",
    "def correction(list):\n",
    "    correction_list = []\n",
    "    for mot in list:\n",
    "        word = Word(mot)\n",
    "        word_correction = word.correct()\n",
    "        correction_list.append(word_correction)\n",
    "    return correction_list\n",
    "    \n",
    "\n"
   ]
  },
  {
   "cell_type": "code",
   "execution_count": 3,
   "metadata": {},
   "outputs": [],
   "source": [
    "def NormalizationDataset(df,param_correction,param_uniforme):\n",
    "    print(df['Tweet'])\n",
    "    #On retire les espaces en trop\n",
    "    df['Tweet'] = df['Tweet'].apply(deleteSpaces)\n",
    "    #On passe les caractères en minuscule\n",
    "    df['Tweet'] = df['Tweet'].apply(textToLower)\n",
    "    #On transforme les contractions\n",
    "    df['Tweet'] = df['Tweet'].apply(transformContraction)\n",
    "    #On retire la ponctuation\n",
    "    df['Tweet'] = df['Tweet'].apply(deletePunctuation)\n",
    "    #On transforme en unicode\n",
    "    df['Tweet'] = df['Tweet'].apply(transformUnicode)\n",
    "    #Tokensization\n",
    "    df['Tweet'] = df['Tweet'].apply(word_tokenize)\n",
    "    #Filtre des stopswords\n",
    "    df['Tweet'] = df['Tweet'].apply(deleteStopwords)\n",
    "    #On supprime les adresses HTTP\n",
    "    df['Tweet'] = df['Tweet'].apply(deleteHTTP)\n",
    "    # On corrige les mots mals orthographiés\n",
    "    print(df['Tweet'])\n",
    "    if param_correction == True:\n",
    "        df['Tweet'] = df['Tweet'].apply(correction)\n",
    "        print(df['Tweet'])\n",
    "    #On uniformise les mots de même racine\n",
    "    if param_uniforme == True:\n",
    "        df['Tweet'] = df['Tweet'].apply(uniformisation)\n",
    "    print(df['Tweet'])\n",
    "    \n"
   ]
  },
  {
   "cell_type": "code",
   "execution_count": 4,
   "metadata": {},
   "outputs": [
    {
     "name": "stdout",
     "output_type": "stream",
     "text": [
      "Index(['Tweet ID', 'Country', 'Date', 'Tweet', 'Definitely English',\n",
      "       'Ambiguous', 'Definitely Not English', 'Code-Switched',\n",
      "       'Ambiguous due to Named Entities', 'Automatically Generated Tweets'],\n",
      "      dtype='object')\n",
      "2                                                   Bed\n",
      "3     I felt my first flash of violence at some fool...\n",
      "4               Ladies drink and get in free till 10:30\n",
      "7     Watching #Miranda On bbc1!!! @mermhart u r HIL...\n",
      "9             Shopping! (@ Kohl's) http://t.co/I8ZkQHT9\n",
      "14                                           Yessss ^_^\n",
      "16    @Dennycrowe all over twitter because you and y...\n",
      "19    ~ i'm falling apart,with a broken heart,barely...\n",
      "20    @CP_UDASHIT oh my god, we go way back #lovethi...\n",
      "21    The way you treat me. The way you accept me, a...\n",
      "Name: Tweet, dtype: object\n",
      "2                                                   Bed\n",
      "3     I felt my first flash of violence at some fool...\n",
      "4               Ladies drink and get in free till 10:30\n",
      "7     Watching #Miranda On bbc1!!! @mermhart u r HIL...\n",
      "9             Shopping! (@ Kohl's) http://t.co/I8ZkQHT9\n",
      "14                                           Yessss ^_^\n",
      "16    @Dennycrowe all over twitter because you and y...\n",
      "19    ~ i'm falling apart,with a broken heart,barely...\n",
      "20    @CP_UDASHIT oh my god, we go way back #lovethi...\n",
      "21    The way you treat me. The way you accept me, a...\n",
      "Name: Tweet, dtype: object\n",
      "2                                                 [bed]\n",
      "3     [felt, first, flash, violence, fool, bumped, p...\n",
      "4                [ladies, drink, get, free, till, 1030]\n",
      "7     [watching, miranda, bbc1, mermhart, r, hilarious]\n",
      "9                                     [shopping, kohls]\n",
      "14                                             [yessss]\n",
      "16                [dennycrowe, twitter, friends, stick]\n",
      "19    [falling, apartwith, broken, heartbarely, brea...\n",
      "20    [cpudashit, oh, god, go, way, back, lovethis, ...\n",
      "21    [way, treat, way, accept, love, much, care, ma...\n",
      "Name: Tweet, dtype: object\n",
      "2                                                 [bed]\n",
      "3     [felt, first, flash, violence, fool, bumped, p...\n",
      "4                [ladies, drink, get, free, till, 1030]\n",
      "7     [watching, veranda, back, merchant, r, hilarious]\n",
      "9                                      [shopping, vols]\n",
      "14                                             [messrs]\n",
      "16                [dennycrowe, twitter, friends, stick]\n",
      "19    [falling, apartwith, broken, heartbarely, brea...\n",
      "20    [cpudashit, oh, god, go, way, back, lovethis, ...\n",
      "21    [way, treat, way, accept, love, much, care, ma...\n",
      "Name: Tweet, dtype: object\n",
      "2                                                 [bed]\n",
      "3     [felt, first, flash, violence, fool, bumped, p...\n",
      "4                [ladies, drink, get, free, till, 1030]\n",
      "7     [watching, veranda, back, merchant, r, hilarious]\n",
      "9                                      [shopping, vols]\n",
      "14                                             [messrs]\n",
      "16                [dennycrowe, twitter, friends, stick]\n",
      "19    [falling, apartwith, broken, heartbarely, brea...\n",
      "20    [cpudashit, oh, god, go, way, back, lovethis, ...\n",
      "21    [way, treat, way, accept, love, much, care, ma...\n",
      "Name: Tweet, dtype: object\n"
     ]
    }
   ],
   "source": [
    "df = dlDdataset(\"all_annotated.tsv\")\n",
    "NormalizationDataset(df,param_correction = True, param_uniforme = False)"
   ]
  },
  {
   "cell_type": "code",
   "execution_count": 5,
   "metadata": {},
   "outputs": [
    {
     "name": "stdout",
     "output_type": "stream",
     "text": [
      "adresse httpsfiezi\n",
      "not adress maison\n",
      "adresse httpjgrijg\n",
      "adresse httpgzezrr\n",
      "not adress toiture\n"
     ]
    }
   ],
   "source": [
    "reg = '^http*'\n",
    "test = [\"httpsfiezi\",\"maison\",\"httpjgrijg\",\"httpgzezrr\",'toiture']\n",
    "for i in test:\n",
    "    ge = re.search(reg,i)\n",
    "    if ge is not None:\n",
    "        print(\"adresse \"+i)\n",
    "    else:\n",
    "        print(\"not adress \"+i)"
   ]
  },
  {
   "cell_type": "code",
   "execution_count": null,
   "metadata": {},
   "outputs": [],
   "source": []
  }
 ],
 "metadata": {
  "kernelspec": {
   "display_name": "Python 3",
   "language": "python",
   "name": "python3"
  },
  "language_info": {
   "codemirror_mode": {
    "name": "ipython",
    "version": 3
   },
   "file_extension": ".py",
   "mimetype": "text/x-python",
   "name": "python",
   "nbconvert_exporter": "python",
   "pygments_lexer": "ipython3",
   "version": "3.7.3"
  }
 },
 "nbformat": 4,
 "nbformat_minor": 2
}
